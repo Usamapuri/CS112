{
 "cells": [
  {
   "cell_type": "markdown",
   "metadata": {},
   "source": [
    "# CS112: Assignment 2\n",
    "## Regression and Bootstrapping\n",
    "## Question 1: Obtain the “Grade 4 Electric Company” data that we used in class"
   ]
  },
  {
   "cell_type": "code",
   "execution_count": 1,
   "metadata": {},
   "outputs": [],
   "source": [
    "sesame <- read.csv(\"https://tinyurl.com/wlgl63b\")"
   ]
  },
  {
   "cell_type": "code",
   "execution_count": 2,
   "metadata": {
    "scrolled": true
   },
   "outputs": [
    {
     "data": {
      "text/html": [
       "<table>\n",
       "<thead><tr><th scope=col>post.test</th><th scope=col>pre.test</th><th scope=col>treatment</th></tr></thead>\n",
       "<tbody>\n",
       "\t<tr><td>116.2</td><td>105.9</td><td>1    </td></tr>\n",
       "\t<tr><td>116.9</td><td>100.8</td><td>1    </td></tr>\n",
       "\t<tr><td>106.9</td><td> 91.7</td><td>1    </td></tr>\n",
       "\t<tr><td>104.6</td><td> 97.5</td><td>1    </td></tr>\n",
       "\t<tr><td>114.2</td><td>106.5</td><td>1    </td></tr>\n",
       "\t<tr><td>113.6</td><td>107.4</td><td>1    </td></tr>\n",
       "</tbody>\n",
       "</table>\n"
      ],
      "text/latex": [
       "\\begin{tabular}{r|lll}\n",
       " post.test & pre.test & treatment\\\\\n",
       "\\hline\n",
       "\t 116.2 & 105.9 & 1    \\\\\n",
       "\t 116.9 & 100.8 & 1    \\\\\n",
       "\t 106.9 &  91.7 & 1    \\\\\n",
       "\t 104.6 &  97.5 & 1    \\\\\n",
       "\t 114.2 & 106.5 & 1    \\\\\n",
       "\t 113.6 & 107.4 & 1    \\\\\n",
       "\\end{tabular}\n"
      ],
      "text/markdown": [
       "\n",
       "| post.test | pre.test | treatment |\n",
       "|---|---|---|\n",
       "| 116.2 | 105.9 | 1     |\n",
       "| 116.9 | 100.8 | 1     |\n",
       "| 106.9 |  91.7 | 1     |\n",
       "| 104.6 |  97.5 | 1     |\n",
       "| 114.2 | 106.5 | 1     |\n",
       "| 113.6 | 107.4 | 1     |\n",
       "\n"
      ],
      "text/plain": [
       "  post.test pre.test treatment\n",
       "1 116.2     105.9    1        \n",
       "2 116.9     100.8    1        \n",
       "3 106.9      91.7    1        \n",
       "4 104.6      97.5    1        \n",
       "5 114.2     106.5    1        \n",
       "6 113.6     107.4    1        "
      ]
     },
     "metadata": {},
     "output_type": "display_data"
    }
   ],
   "source": [
    "head(sesame)"
   ]
  },
  {
   "cell_type": "code",
   "execution_count": 3,
   "metadata": {},
   "outputs": [
    {
     "data": {
      "text/html": [
       "<ol class=list-inline>\n",
       "\t<li>'post.test'</li>\n",
       "\t<li>'pre.test'</li>\n",
       "\t<li>'treatment'</li>\n",
       "</ol>\n"
      ],
      "text/latex": [
       "\\begin{enumerate*}\n",
       "\\item 'post.test'\n",
       "\\item 'pre.test'\n",
       "\\item 'treatment'\n",
       "\\end{enumerate*}\n"
      ],
      "text/markdown": [
       "1. 'post.test'\n",
       "2. 'pre.test'\n",
       "3. 'treatment'\n",
       "\n",
       "\n"
      ],
      "text/plain": [
       "[1] \"post.test\" \"pre.test\"  \"treatment\""
      ]
     },
     "metadata": {},
     "output_type": "display_data"
    }
   ],
   "source": [
    "names(sesame)"
   ]
  },
  {
   "cell_type": "markdown",
   "metadata": {},
   "source": [
    "### (A)Replicate the “Grade 4” data visualization (the right-panel) in Figure 9.7 of the Gelman reading. Be sure to label everything appropriately."
   ]
  },
  {
   "cell_type": "code",
   "execution_count": 4,
   "metadata": {
    "scrolled": false
   },
   "outputs": [
    {
     "data": {
      "image/png": "[encoded data removed]",
      "text/plain": [
       "Plot with title \"Grade 4\""
      ]
     },
     "metadata": {},
     "output_type": "display_data"
    }
   ],
   "source": [
    "# Plotting the Graph using the original data\n",
    "attach(sesame)\n",
    "\n",
    "# Doing the above step so that the same graph can be generated again\n",
    "#Once the value is changed in the next part of the question\n",
    "sesame$post.test[11] = 113.9\n",
    "\n",
    "#Splitting the data set w.r.t treatment value\n",
    "split_df <- split(sesame, with(sesame, interaction(treatment)), drop = TRUE)\n",
    "zero_treatment <- split_df$'0'\n",
    "one_treatment <- split_df$'1'\n",
    "\n",
    "#Plotting the graph\n",
    "plot(pre.test, post.test, main = \"Grade 4\",\n",
    "     xlim = c(0,120), ylim = c(0, 120), pch=ifelse(sesame$treatment==1, 1, 16),\n",
    "     xlab = \"Pre Test \", ylab = \"Post Test \",\n",
    "     abline(lm(zero_treatment$post.test ~ zero_treatment$pre.test),lty = 2))\n",
    "lines(abline(lm(one_treatment$post.test ~ one_treatment$pre.test),lty = 1))"
   ]
  },
  {
   "cell_type": "markdown",
   "metadata": {},
   "source": [
    "### (B) The treatment effects in this “Grade 4” data visualization are positive for all (or nearly all--it’s a little hard to tell) X-values shown in the figure. Change the y-value of one data point (in any way you wish) such that the treatment effects are negative for all X values shown in the figure. (Ideally, you would change the y-value just a little, because that would demonstrate the vulnerability of the positive treatment effects to the presence of high-leverage outliers--but ANY change in the given observation is fine.) Create a new figure showing the new (negative) treatment effects AND BE SURE TO MAKE THE POINT YOU MODIFIED A DIFFERENT COLOR FROM ALL THE OTHER POINTS."
   ]
  },
  {
   "cell_type": "code",
   "execution_count": 5,
   "metadata": {
    "scrolled": false
   },
   "outputs": [
    {
     "name": "stderr",
     "output_type": "stream",
     "text": [
      "The following objects are masked from sesame (pos = 3):\n",
      "\n",
      "    post.test, pre.test, treatment\n",
      "\n"
     ]
    },
    {
     "data": {
      "image/png": "[encoded data removed]",
      "text/plain": [
       "Plot with title \"Grade 4\""
      ]
     },
     "metadata": {},
     "output_type": "display_data"
    }
   ],
   "source": [
    "attach(sesame)\n",
    "\n",
    "#Changing the value of a certain point\n",
    "sesame[11,'post.test'] = 60\n",
    "\n",
    "#Splitting the data set w.r.t treatment value\n",
    "split_df <- split(sesame, with(sesame, interaction(treatment)), drop = TRUE)\n",
    "zero_treatment <- split_df$'0'\n",
    "one_treatment <- split_df$'1'\n",
    "\n",
    "\n",
    "#Plotting the graph\n",
    "plot(pre.test, post.test, main = \"Grade 4\",\n",
    "     xlim = c(0,120), ylim = c(0, 120), col = ifelse(post.test == 50, \"red\", \"black\"),\n",
    "     pch=ifelse(sesame$treatment==1, 1, 16),\n",
    "     xlab = \"Pre Test \", ylab = \"Post Test \",\n",
    "     abline(lm(zero_treatment$post.test ~ zero_treatment$pre.test),lty = 2))\n",
    "lines(abline(lm(one_treatment$post.test ~ one_treatment$pre.test),lty = 1))"
   ]
  },
  {
   "cell_type": "markdown",
   "metadata": {},
   "source": [
    "### (C) Replicate Figure 9.8, again labelling everything appropriately. Do you notice how the uncertainty of the treatment effect estimates is larger at the sides of the figure than it is in the middle? Write a sentence or two discussing and explaining why the uncertainty of the treatment effect is minimized in the region where it appears smallest (i.e., with respect to the X-axis). For extra credit, modify your data visualization to identify (with some color) the 95% interval of the expected value of the treatment effect for all values of X shown in the figure. This requires obtaining simulated expected values for the treatment effect (conditional on pre.test) and then identifying the mid-95% range of those values -- for many discrete values of pre.test."
   ]
  },
  {
   "cell_type": "code",
   "execution_count": 6,
   "metadata": {},
   "outputs": [],
   "source": [
    "sesame <- read.csv(\"https://tinyurl.com/wlgl63b\")"
   ]
  },
  {
   "cell_type": "code",
   "execution_count": 7,
   "metadata": {
    "scrolled": false
   },
   "outputs": [
    {
     "name": "stderr",
     "output_type": "stream",
     "text": [
      "Warning message:\n",
      "\"package 'arm' was built under R version 3.6.2\"Loading required package: Matrix\n",
      "Loading required package: lme4\n",
      "Warning message:\n",
      "\"package 'lme4' was built under R version 3.6.2\"\n",
      "arm (Version 1.10-1, built: 2018-4-12)\n",
      "\n",
      "Working directory is C:/Users/usama/Desktop/CS112 Assignment 2\n",
      "\n"
     ]
    },
    {
     "data": {
      "image/png": "[encoded data removed]",
      "text/plain": [
       "Plot with title \"Treatment Effect in grade 4\""
      ]
     },
     "metadata": {},
     "output_type": "display_data"
    }
   ],
   "source": [
    "library(MASS)\n",
    "library(arm)\n",
    "\n",
    "#fit the regression model\n",
    "lm_4 <- lm(sesame$post.test ~ sesame$treatment + sesame$pre.test + sesame$treatment:sesame$pre.test)\n",
    "lm_4.sim <- sim(lm_4)\n",
    "\n",
    "#PLotting the graph\n",
    "plot (0, 0, xlim = range(sesame$pre.test), ylim=c(-5,10),\n",
    "      xlab=\"Pre Test\", ylab=\"Treatment Effect\",\n",
    "      main=\"Treatment Effect in grade 4\")\n",
    "abline (0, 0, lwd=.5, lty=2)\n",
    "\n",
    "for (i in 1:20){\n",
    "    curve(coef(lm_4.sim)[i,2] + coef(lm_4.sim)[i,4]*x , lwd=.5, col=\"gray\",add=TRUE)\n",
    "}\n",
    "\n",
    "curve(coef(lm_4)[2] + coef(lm_4)[4]*x, lwd=.5, add=TRUE)"
   ]
  },
  {
   "cell_type": "markdown",
   "metadata": {},
   "source": [
    "### Explanation\n",
    "\n",
    "As seen in the data most of the observations lie between 100-120. Because of this, most of the simulated regression lines are pointing towards this region, which can be seen in the above figure too. This also shows that the uncertainity around the treatment effect is the lowest in tbis region."
   ]
  },
  {
   "cell_type": "markdown",
   "metadata": {},
   "source": [
    "## Question 2 : Obtain the “tinting” data set\n"
   ]
  },
  {
   "cell_type": "code",
   "execution_count": 8,
   "metadata": {},
   "outputs": [
    {
     "data": {
      "text/html": [
       "<table>\n",
       "<thead><tr><th scope=col>case</th><th scope=col>id</th><th scope=col>age</th><th scope=col>sex</th><th scope=col>tint</th><th scope=col>target</th><th scope=col>it</th><th scope=col>csoa</th><th scope=col>agegp</th></tr></thead>\n",
       "<tbody>\n",
       "\t<tr><td>1      </td><td>1      </td><td>22.4   </td><td>f      </td><td>no     </td><td>hicon  </td><td>26.00  </td><td>46.80  </td><td>younger</td></tr>\n",
       "\t<tr><td>1      </td><td>1      </td><td>22.4   </td><td>f      </td><td>lo     </td><td>hicon  </td><td>32.24  </td><td>37.44  </td><td>younger</td></tr>\n",
       "\t<tr><td>1      </td><td>1      </td><td>22.4   </td><td>f      </td><td>hi     </td><td>hicon  </td><td>27.04  </td><td>42.64  </td><td>younger</td></tr>\n",
       "\t<tr><td>1      </td><td>1      </td><td>22.4   </td><td>f      </td><td>no     </td><td>locon  </td><td>17.68  </td><td>41.60  </td><td>younger</td></tr>\n",
       "\t<tr><td>1      </td><td>1      </td><td>22.4   </td><td>f      </td><td>lo     </td><td>locon  </td><td>20.80  </td><td>37.44  </td><td>younger</td></tr>\n",
       "\t<tr><td>1      </td><td>1      </td><td>22.4   </td><td>f      </td><td>hi     </td><td>locon  </td><td>26.00  </td><td>40.56  </td><td>younger</td></tr>\n",
       "</tbody>\n",
       "</table>\n"
      ],
      "text/latex": [
       "\\begin{tabular}{r|lllllllll}\n",
       " case & id & age & sex & tint & target & it & csoa & agegp\\\\\n",
       "\\hline\n",
       "\t 1       & 1       & 22.4    & f       & no      & hicon   & 26.00   & 46.80   & younger\\\\\n",
       "\t 1       & 1       & 22.4    & f       & lo      & hicon   & 32.24   & 37.44   & younger\\\\\n",
       "\t 1       & 1       & 22.4    & f       & hi      & hicon   & 27.04   & 42.64   & younger\\\\\n",
       "\t 1       & 1       & 22.4    & f       & no      & locon   & 17.68   & 41.60   & younger\\\\\n",
       "\t 1       & 1       & 22.4    & f       & lo      & locon   & 20.80   & 37.44   & younger\\\\\n",
       "\t 1       & 1       & 22.4    & f       & hi      & locon   & 26.00   & 40.56   & younger\\\\\n",
       "\\end{tabular}\n"
      ],
      "text/markdown": [
       "\n",
       "| case | id | age | sex | tint | target | it | csoa | agegp |\n",
       "|---|---|---|---|---|---|---|---|---|\n",
       "| 1       | 1       | 22.4    | f       | no      | hicon   | 26.00   | 46.80   | younger |\n",
       "| 1       | 1       | 22.4    | f       | lo      | hicon   | 32.24   | 37.44   | younger |\n",
       "| 1       | 1       | 22.4    | f       | hi      | hicon   | 27.04   | 42.64   | younger |\n",
       "| 1       | 1       | 22.4    | f       | no      | locon   | 17.68   | 41.60   | younger |\n",
       "| 1       | 1       | 22.4    | f       | lo      | locon   | 20.80   | 37.44   | younger |\n",
       "| 1       | 1       | 22.4    | f       | hi      | locon   | 26.00   | 40.56   | younger |\n",
       "\n"
      ],
      "text/plain": [
       "  case id age  sex tint target it    csoa  agegp  \n",
       "1 1    1  22.4 f   no   hicon  26.00 46.80 younger\n",
       "2 1    1  22.4 f   lo   hicon  32.24 37.44 younger\n",
       "3 1    1  22.4 f   hi   hicon  27.04 42.64 younger\n",
       "4 1    1  22.4 f   no   locon  17.68 41.60 younger\n",
       "5 1    1  22.4 f   lo   locon  20.80 37.44 younger\n",
       "6 1    1  22.4 f   hi   locon  26.00 40.56 younger"
      ]
     },
     "metadata": {},
     "output_type": "display_data"
    }
   ],
   "source": [
    "tinting <- read.csv(url(\"https://tinyurl.com/v4bq99k\"))\n",
    "head(tinting)"
   ]
  },
  {
   "cell_type": "code",
   "execution_count": 9,
   "metadata": {},
   "outputs": [
    {
     "data": {
      "text/html": [
       "<ol class=list-inline>\n",
       "\t<li>'case'</li>\n",
       "\t<li>'id'</li>\n",
       "\t<li>'age'</li>\n",
       "\t<li>'sex'</li>\n",
       "\t<li>'tint'</li>\n",
       "\t<li>'target'</li>\n",
       "\t<li>'it'</li>\n",
       "\t<li>'csoa'</li>\n",
       "\t<li>'agegp'</li>\n",
       "</ol>\n"
      ],
      "text/latex": [
       "\\begin{enumerate*}\n",
       "\\item 'case'\n",
       "\\item 'id'\n",
       "\\item 'age'\n",
       "\\item 'sex'\n",
       "\\item 'tint'\n",
       "\\item 'target'\n",
       "\\item 'it'\n",
       "\\item 'csoa'\n",
       "\\item 'agegp'\n",
       "\\end{enumerate*}\n"
      ],
      "text/markdown": [
       "1. 'case'\n",
       "2. 'id'\n",
       "3. 'age'\n",
       "4. 'sex'\n",
       "5. 'tint'\n",
       "6. 'target'\n",
       "7. 'it'\n",
       "8. 'csoa'\n",
       "9. 'agegp'\n",
       "\n",
       "\n"
      ],
      "text/plain": [
       "[1] \"case\"   \"id\"     \"age\"    \"sex\"    \"tint\"   \"target\" \"it\"     \"csoa\"  \n",
       "[9] \"agegp\" "
      ]
     },
     "metadata": {},
     "output_type": "display_data"
    }
   ],
   "source": [
    "names(tinting)"
   ]
  },
  {
   "cell_type": "code",
   "execution_count": 10,
   "metadata": {},
   "outputs": [
    {
     "data": {
      "text/plain": [
       "\n",
       "Call:\n",
       "lm(formula = csoa ~ age + sex + target + I(as.numeric(tinting$tint != \n",
       "    \"no\")) + I(as.numeric(tint != \"no\") * age), data = tinting)\n",
       "\n",
       "Residuals:\n",
       "    Min      1Q  Median      3Q     Max \n",
       "-20.268 -10.518  -1.896   7.244  63.495 \n",
       "\n",
       "Coefficients:\n",
       "                                    Estimate Std. Error t value Pr(>|t|)    \n",
       "(Intercept)                         31.15440    3.43576   9.068 2.35e-16 ***\n",
       "age                                  0.28633    0.06355   4.506 1.20e-05 ***\n",
       "sexm                                 5.48114    2.18666   2.507   0.0131 *  \n",
       "targetlocon                          3.53675    2.05229   1.723   0.0866 .  \n",
       "I(as.numeric(tinting$tint != \"no\")) -0.72172    4.45631  -0.162   0.8715    \n",
       "I(as.numeric(tint != \"no\") * age)    0.04237    0.08081   0.524   0.6007    \n",
       "---\n",
       "Signif. codes:  0 '***' 0.001 '**' 0.01 '*' 0.05 '.' 0.1 ' ' 1\n",
       "\n",
       "Residual standard error: 13.51 on 176 degrees of freedom\n",
       "Multiple R-squared:  0.3359,\tAdjusted R-squared:  0.317 \n",
       "F-statistic:  17.8 on 5 and 176 DF,  p-value: 2.905e-14\n"
      ]
     },
     "metadata": {},
     "output_type": "display_data"
    },
    {
     "data": {
      "text/html": [
       "<table>\n",
       "<thead><tr><th></th><th scope=col>CSOA.Lower.Bound</th><th scope=col>CSOA.Upper.Bound</th><th scope=col>csoa_mean</th></tr></thead>\n",
       "<tbody>\n",
       "\t<tr><th scope=row>20</th><td>36.10237</td><td>45.06444</td><td>40.53302</td></tr>\n",
       "\t<tr><th scope=row>30</th><td>39.80325</td><td>47.79488</td><td>43.80851</td></tr>\n",
       "\t<tr><th scope=row>40</th><td>43.12923</td><td>50.82072</td><td>47.08400</td></tr>\n",
       "\t<tr><th scope=row>50</th><td>46.24071</td><td>54.04517</td><td>50.35949</td></tr>\n",
       "\t<tr><th scope=row>60</th><td>49.13702</td><td>57.78575</td><td>53.63497</td></tr>\n",
       "\t<tr><th scope=row>70</th><td>51.87652</td><td>61.52489</td><td>56.91046</td></tr>\n",
       "\t<tr><th scope=row>80</th><td>54.25499</td><td>65.33166</td><td>60.18595</td></tr>\n",
       "</tbody>\n",
       "</table>\n"
      ],
      "text/latex": [
       "\\begin{tabular}{r|lll}\n",
       "  & CSOA.Lower.Bound & CSOA.Upper.Bound & csoa\\_mean\\\\\n",
       "\\hline\n",
       "\t20 & 36.10237 & 45.06444 & 40.53302\\\\\n",
       "\t30 & 39.80325 & 47.79488 & 43.80851\\\\\n",
       "\t40 & 43.12923 & 50.82072 & 47.08400\\\\\n",
       "\t50 & 46.24071 & 54.04517 & 50.35949\\\\\n",
       "\t60 & 49.13702 & 57.78575 & 53.63497\\\\\n",
       "\t70 & 51.87652 & 61.52489 & 56.91046\\\\\n",
       "\t80 & 54.25499 & 65.33166 & 60.18595\\\\\n",
       "\\end{tabular}\n"
      ],
      "text/markdown": [
       "\n",
       "| <!--/--> | CSOA.Lower.Bound | CSOA.Upper.Bound | csoa_mean |\n",
       "|---|---|---|---|\n",
       "| 20 | 36.10237 | 45.06444 | 40.53302 |\n",
       "| 30 | 39.80325 | 47.79488 | 43.80851 |\n",
       "| 40 | 43.12923 | 50.82072 | 47.08400 |\n",
       "| 50 | 46.24071 | 54.04517 | 50.35949 |\n",
       "| 60 | 49.13702 | 57.78575 | 53.63497 |\n",
       "| 70 | 51.87652 | 61.52489 | 56.91046 |\n",
       "| 80 | 54.25499 | 65.33166 | 60.18595 |\n",
       "\n"
      ],
      "text/plain": [
       "   CSOA.Lower.Bound CSOA.Upper.Bound csoa_mean\n",
       "20 36.10237         45.06444         40.53302 \n",
       "30 39.80325         47.79488         43.80851 \n",
       "40 43.12923         50.82072         47.08400 \n",
       "50 46.24071         54.04517         50.35949 \n",
       "60 49.13702         57.78575         53.63497 \n",
       "70 51.87652         61.52489         56.91046 \n",
       "80 54.25499         65.33166         60.18595 "
      ]
     },
     "metadata": {},
     "output_type": "display_data"
    }
   ],
   "source": [
    "library(arm)\n",
    "\n",
    "# Fitting the regression model \n",
    "lm1 <- lm(csoa ~ age + sex + target + I(as.numeric(tinting$tint != \"no\"))\n",
    "          + I(as.numeric(tint!= \"no\")*age), data = tinting) \n",
    "summary(lm1)\n",
    "\n",
    "# Simulations \n",
    "iterations <- 1000\n",
    "tinting_sim <- sim(lm1, n.sims = iterations)\n",
    "\n",
    "# Predict csoa for every value of age\n",
    "age_seq = seq(20,80, by = 10)\n",
    "treat_simulation <- matrix(NA, nrow = iterations, length(age_seq))\n",
    "\n",
    "for (age in age_seq) {\n",
    "  xs <- c(1, age, 0, 1, 1, 1*age)   \n",
    "  for (i in 1:iterations) {\n",
    "    treat_simulation[i, 1 + (age-min(age_seq))/10] <- sum(xs*tinting_sim@coef[i,]) \n",
    "  }\n",
    "}\n",
    "\n",
    "#Creating the table with all the upper and lower bounds\n",
    "CI_mean.treat <- apply(treat_simulation, 2, quantile, probs = c(0.025, 0.975))\n",
    "csoa_mean <- apply(treat_simulation, 2, mean)\n",
    "table1 <- t(data.frame(CI_mean.treat))\n",
    "colnames(table1) <- c(\"CSOA Lower Bound\", \"CSOA Upper Bound\")\n",
    "table1 <- data.frame(table1, csoa_mean)\n",
    "rownames(table1) <- age_seq\n",
    "table1"
   ]
  },
  {
   "cell_type": "code",
   "execution_count": 11,
   "metadata": {
    "scrolled": false
   },
   "outputs": [
    {
     "data": {
      "image/png": "[encoded data removed]",
      "text/plain": [
       "Plot with title \"CSOA for typical female units with target = 'hicon'  and ages ='20-80'\""
      ]
     },
     "metadata": {},
     "output_type": "display_data"
    }
   ],
   "source": [
    "# Plotting the predicted csoa\n",
    "plot(x = c(1:100), y = c(1:100), type = \"n\", \n",
    "     xlim = c(20,80), \n",
    "     ylim = c(0,100), \n",
    "     main = \"CSOA for typical female units with target = 'hicon'  and ages ='20-80'\", xlab = \"age\", \n",
    "     ylab = \"CSOA\")\n",
    "\n",
    "for (age in age_seq) {\n",
    "  segments(\n",
    "    x0 = age,\n",
    "    y0 = CI_mean.treat[1,((age-min(age_seq))/10) + 1],\n",
    "    x1 = age,\n",
    "    y1 = CI_mean.treat[2, ((age-min(age_seq))/10) + 1],\n",
    "    lwd = 2)\n",
    "}"
   ]
  },
  {
   "cell_type": "code",
   "execution_count": 12,
   "metadata": {},
   "outputs": [
    {
     "data": {
      "text/html": [
       "<table>\n",
       "<thead><tr><th></th><th scope=col>Treatment Effect Lower Bound</th><th scope=col>Treatment Effect Upper Bound</th></tr></thead>\n",
       "<tbody>\n",
       "\t<tr><th scope=row>20</th><td>-2.336574</td><td> 3.957894</td></tr>\n",
       "\t<tr><th scope=row>30</th><td>-3.504862</td><td> 5.936842</td></tr>\n",
       "\t<tr><th scope=row>40</th><td>-4.673149</td><td> 7.915789</td></tr>\n",
       "\t<tr><th scope=row>50</th><td>-5.841436</td><td> 9.894736</td></tr>\n",
       "\t<tr><th scope=row>60</th><td>-7.009723</td><td>11.873683</td></tr>\n",
       "\t<tr><th scope=row>70</th><td>-8.178011</td><td>13.852631</td></tr>\n",
       "\t<tr><th scope=row>80</th><td>-9.346298</td><td>15.831578</td></tr>\n",
       "</tbody>\n",
       "</table>\n"
      ],
      "text/latex": [
       "\\begin{tabular}{r|ll}\n",
       "  & Treatment Effect Lower Bound & Treatment Effect Upper Bound\\\\\n",
       "\\hline\n",
       "\t20 & -2.336574 &  3.957894\\\\\n",
       "\t30 & -3.504862 &  5.936842\\\\\n",
       "\t40 & -4.673149 &  7.915789\\\\\n",
       "\t50 & -5.841436 &  9.894736\\\\\n",
       "\t60 & -7.009723 & 11.873683\\\\\n",
       "\t70 & -8.178011 & 13.852631\\\\\n",
       "\t80 & -9.346298 & 15.831578\\\\\n",
       "\\end{tabular}\n"
      ],
      "text/markdown": [
       "\n",
       "| <!--/--> | Treatment Effect Lower Bound | Treatment Effect Upper Bound |\n",
       "|---|---|---|\n",
       "| 20 | -2.336574 |  3.957894 |\n",
       "| 30 | -3.504862 |  5.936842 |\n",
       "| 40 | -4.673149 |  7.915789 |\n",
       "| 50 | -5.841436 |  9.894736 |\n",
       "| 60 | -7.009723 | 11.873683 |\n",
       "| 70 | -8.178011 | 13.852631 |\n",
       "| 80 | -9.346298 | 15.831578 |\n",
       "\n"
      ],
      "text/plain": [
       "   Treatment Effect Lower Bound Treatment Effect Upper Bound\n",
       "20 -2.336574                     3.957894                   \n",
       "30 -3.504862                     5.936842                   \n",
       "40 -4.673149                     7.915789                   \n",
       "50 -5.841436                     9.894736                   \n",
       "60 -7.009723                    11.873683                   \n",
       "70 -8.178011                    13.852631                   \n",
       "80 -9.346298                    15.831578                   "
      ]
     },
     "metadata": {},
     "output_type": "display_data"
    }
   ],
   "source": [
    "# Predicting csoa for every value of age\n",
    "age_seq = seq(20,80, by = 10)\n",
    "control_simulation <- matrix(NA, nrow = iterations, ncol = length(age_seq))\n",
    "\n",
    "for (age in age_seq) {\n",
    "  xs <- c(1, age, 0, 1, 1, 0*age) \n",
    "    \n",
    "  for (i in 1:iterations) {\n",
    "    control_simulation[i, 1 + (age-min(age_seq))/10] <- sum(xs*tinting_sim@coef[i,])\n",
    "  }\n",
    "}\n",
    "\n",
    "simulated_treatment_effect = treat_simulation - control_simulation\n",
    "\n",
    "#Creating the table with all the upper and lower bounds\n",
    "CI_treatment_effect <- apply(simulated_treatment_effect, 2, quantile, probs = c(0.025, 0.975))\n",
    "mean_treatment_effect <- apply(simulated_treatment_effect, 2, mean)\n",
    "table2 <- t(data.frame(CI_treatment_effect))\n",
    "colnames(table2) <- c(\"Treatment Effect Lower Bound\", \"Treatment Effect Upper Bound\")\n",
    "rownames(table2) <- age_seq\n",
    "table2"
   ]
  },
  {
   "cell_type": "code",
   "execution_count": 13,
   "metadata": {},
   "outputs": [
    {
     "data": {
      "image/png": "[encoded data removed]",
      "text/plain": [
       "Plot with title \"Treatment effect for typical female units with target = 'hicon'  and ages ='20-80' \""
      ]
     },
     "metadata": {},
     "output_type": "display_data"
    }
   ],
   "source": [
    "# Plot the predicted csoa\n",
    "plot(x = c(1:100), y = c(1:100), type = \"n\", \n",
    "     xlim = c(20,80), ylim = c(-20,20),\n",
    "     main = \"Treatment effect for typical female units with target = 'hicon'  and ages ='20-80' \", xlab = \"age\", \n",
    "     ylab = \"Treatment Effect\")\n",
    "\n",
    "for (age in age_seq) {\n",
    "  segments(\n",
    "    x0 = age,y0 = CI_treatment_effect[1, ((age-min(age_seq))/10)+1],\n",
    "    x1 = age,y1 = CI_treatment_effect[2, ((age-min(age_seq))/10)+1],\n",
    "    lwd = 2)\n",
    "}"
   ]
  },
  {
   "cell_type": "markdown",
   "metadata": {},
   "source": [
    "## Question 3\n",
    "### Write your own function (8 lines max) that takes Ys and predicted Ys as inputs, anoutputs R2. Copy/paste an example using the lalonde data (from the Matching library) that shows your code is working correctly -- (i.e., show that the summary(lm()) command outputs a very similar R2 as your own function does."
   ]
  },
  {
   "cell_type": "code",
   "execution_count": 14,
   "metadata": {},
   "outputs": [
    {
     "name": "stderr",
     "output_type": "stream",
     "text": [
      "Warning message:\n",
      "\"package 'Matching' was built under R version 3.6.2\"## \n",
      "##  Matching (Version 4.9-6, Build Date: 2019-04-07)\n",
      "##  See http://sekhon.berkeley.edu/matching for additional documentation.\n",
      "##  Please cite software as:\n",
      "##   Jasjeet S. Sekhon. 2011. ``Multivariate and Propensity Score Matching\n",
      "##   Software with Automated Balance Optimization: The Matching package for R.''\n",
      "##   Journal of Statistical Software, 42(7): 1-52. \n",
      "##\n",
      "\n"
     ]
    },
    {
     "data": {
      "text/html": [
       "<table>\n",
       "<thead><tr><th scope=col>age</th><th scope=col>educ</th><th scope=col>black</th><th scope=col>hisp</th><th scope=col>married</th><th scope=col>nodegr</th><th scope=col>re74</th><th scope=col>re75</th><th scope=col>re78</th><th scope=col>u74</th><th scope=col>u75</th><th scope=col>treat</th></tr></thead>\n",
       "<tbody>\n",
       "\t<tr><td>37      </td><td>11      </td><td>1       </td><td>0       </td><td>1       </td><td>1       </td><td>0       </td><td>0       </td><td> 9930.05</td><td>1       </td><td>1       </td><td>1       </td></tr>\n",
       "\t<tr><td>22      </td><td> 9      </td><td>0       </td><td>1       </td><td>0       </td><td>1       </td><td>0       </td><td>0       </td><td> 3595.89</td><td>1       </td><td>1       </td><td>1       </td></tr>\n",
       "\t<tr><td>30      </td><td>12      </td><td>1       </td><td>0       </td><td>0       </td><td>0       </td><td>0       </td><td>0       </td><td>24909.50</td><td>1       </td><td>1       </td><td>1       </td></tr>\n",
       "\t<tr><td>27      </td><td>11      </td><td>1       </td><td>0       </td><td>0       </td><td>1       </td><td>0       </td><td>0       </td><td> 7506.15</td><td>1       </td><td>1       </td><td>1       </td></tr>\n",
       "\t<tr><td>33      </td><td> 8      </td><td>1       </td><td>0       </td><td>0       </td><td>1       </td><td>0       </td><td>0       </td><td>  289.79</td><td>1       </td><td>1       </td><td>1       </td></tr>\n",
       "\t<tr><td>22      </td><td> 9      </td><td>1       </td><td>0       </td><td>0       </td><td>1       </td><td>0       </td><td>0       </td><td> 4056.49</td><td>1       </td><td>1       </td><td>1       </td></tr>\n",
       "</tbody>\n",
       "</table>\n"
      ],
      "text/latex": [
       "\\begin{tabular}{r|llllllllllll}\n",
       " age & educ & black & hisp & married & nodegr & re74 & re75 & re78 & u74 & u75 & treat\\\\\n",
       "\\hline\n",
       "\t 37       & 11       & 1        & 0        & 1        & 1        & 0        & 0        &  9930.05 & 1        & 1        & 1       \\\\\n",
       "\t 22       &  9       & 0        & 1        & 0        & 1        & 0        & 0        &  3595.89 & 1        & 1        & 1       \\\\\n",
       "\t 30       & 12       & 1        & 0        & 0        & 0        & 0        & 0        & 24909.50 & 1        & 1        & 1       \\\\\n",
       "\t 27       & 11       & 1        & 0        & 0        & 1        & 0        & 0        &  7506.15 & 1        & 1        & 1       \\\\\n",
       "\t 33       &  8       & 1        & 0        & 0        & 1        & 0        & 0        &   289.79 & 1        & 1        & 1       \\\\\n",
       "\t 22       &  9       & 1        & 0        & 0        & 1        & 0        & 0        &  4056.49 & 1        & 1        & 1       \\\\\n",
       "\\end{tabular}\n"
      ],
      "text/markdown": [
       "\n",
       "| age | educ | black | hisp | married | nodegr | re74 | re75 | re78 | u74 | u75 | treat |\n",
       "|---|---|---|---|---|---|---|---|---|---|---|---|\n",
       "| 37       | 11       | 1        | 0        | 1        | 1        | 0        | 0        |  9930.05 | 1        | 1        | 1        |\n",
       "| 22       |  9       | 0        | 1        | 0        | 1        | 0        | 0        |  3595.89 | 1        | 1        | 1        |\n",
       "| 30       | 12       | 1        | 0        | 0        | 0        | 0        | 0        | 24909.50 | 1        | 1        | 1        |\n",
       "| 27       | 11       | 1        | 0        | 0        | 1        | 0        | 0        |  7506.15 | 1        | 1        | 1        |\n",
       "| 33       |  8       | 1        | 0        | 0        | 1        | 0        | 0        |   289.79 | 1        | 1        | 1        |\n",
       "| 22       |  9       | 1        | 0        | 0        | 1        | 0        | 0        |  4056.49 | 1        | 1        | 1        |\n",
       "\n"
      ],
      "text/plain": [
       "  age educ black hisp married nodegr re74 re75 re78     u74 u75 treat\n",
       "1 37  11   1     0    1       1      0    0     9930.05 1   1   1    \n",
       "2 22   9   0     1    0       1      0    0     3595.89 1   1   1    \n",
       "3 30  12   1     0    0       0      0    0    24909.50 1   1   1    \n",
       "4 27  11   1     0    0       1      0    0     7506.15 1   1   1    \n",
       "5 33   8   1     0    0       1      0    0      289.79 1   1   1    \n",
       "6 22   9   1     0    0       1      0    0     4056.49 1   1   1    "
      ]
     },
     "metadata": {},
     "output_type": "display_data"
    }
   ],
   "source": [
    "library(Matching)\n",
    "data(lalonde)\n",
    "head(lalonde)"
   ]
  },
  {
   "cell_type": "code",
   "execution_count": null,
   "metadata": {},
   "outputs": [],
   "source": [
    "library(Matching)\n",
    "data(lalonde)\n",
    "attach(lalonde)\n",
    "\n",
    "lm_1 <- summary(lm(re78 ~ age, data = lalonde))\n",
    "lm_1\n",
    "\n",
    "#Creating a function to find R^2\n",
    "r_sqrd <-  function (a,b) {\n",
    "    r_ss <- sum((a-b) ^ 2)\n",
    "    t_ss <- sum((a-mean(b)) ^ 2)\n",
    "    return (1- r_ss/t_ss)\n",
    "}\n",
    "\n",
    "# Taking the value of y intercept and the slope to calculate the prediction\n",
    "predict_y <- 53.39 * age + 3946.18\n",
    "\n",
    "summary(lm(re78 ~ predict_y))\n",
    "#0.003268\n",
    "\n",
    "r_sqrd(re78, predict_y)\n",
    "#0.0032679133994632\n"
   ]
  },
  {
   "cell_type": "markdown",
   "metadata": {},
   "source": [
    "## Question 4"
   ]
  },
  {
   "cell_type": "code",
   "execution_count": 15,
   "metadata": {},
   "outputs": [
    {
     "data": {
      "text/html": [
       "<table>\n",
       "<thead><tr><th scope=col>year</th><th scope=col>month</th><th scope=col>day</th><th scope=col>studentid</th><th scope=col>groupna</th><th scope=col>treatment</th><th scope=col>caste</th><th scope=col>round1</th><th scope=col>round2</th><th scope=col>class</th><th scope=col>...</th><th scope=col>math3</th><th scope=col>math4</th><th scope=col>hindi1</th><th scope=col>hindi2</th><th scope=col>hindi3</th><th scope=col>mothedu</th><th scope=col>fathedu</th><th scope=col>mothocc</th><th scope=col>fathocc</th><th scope=col>land</th></tr></thead>\n",
       "<tbody>\n",
       "\t<tr><td>2003               </td><td>January            </td><td>first day          </td><td>1                  </td><td>42                 </td><td>Caste Revealed     </td><td>kshatriya          </td><td>4                  </td><td>8                  </td><td>7                  </td><td>...                </td><td>NA                 </td><td>NA                 </td><td>NA                 </td><td>NA                 </td><td>NA                 </td><td>5                  </td><td>10                 </td><td>housewife          </td><td>field              </td><td>3.00000            </td></tr>\n",
       "\t<tr><td>2003               </td><td>January            </td><td>first day          </td><td>2                  </td><td>42                 </td><td>Caste Revealed     </td><td>chamar             </td><td>4                  </td><td>4                  </td><td>6                  </td><td>...                </td><td>NA                 </td><td>NA                 </td><td>NA                 </td><td>NA                 </td><td>NA                 </td><td>0                  </td><td>0                  </td><td>housewife          </td><td>field              </td><td>0.79781            </td></tr>\n",
       "\t<tr><td>2003               </td><td>January            </td><td>first day          </td><td>3                  </td><td>42                 </td><td>Caste Revealed     </td><td>kshatriya          </td><td>1                  </td><td>1                  </td><td>6                  </td><td>...                </td><td>NA                 </td><td>NA                 </td><td>NA                 </td><td>NA                 </td><td>NA                 </td><td>10                 </td><td>8                  </td><td>housewife          </td><td>field              </td><td>1.60000            </td></tr>\n",
       "\t<tr><td>2003               </td><td>January            </td><td>first day          </td><td>4                  </td><td>42                 </td><td>Caste Revealed     </td><td>kshatriya          </td><td>3                  </td><td>3                  </td><td>6                  </td><td>...                </td><td>NA                 </td><td>NA                 </td><td>NA                 </td><td>NA                 </td><td>NA                 </td><td>0                  </td><td>8                  </td><td>housewife          </td><td>field              </td><td>1.83027            </td></tr>\n",
       "\t<tr><td>2003               </td><td>January            </td><td>first day          </td><td>5                  </td><td>42                 </td><td>Caste Revealed     </td><td>chamar             </td><td>5                  </td><td>8                  </td><td>7                  </td><td>...                </td><td>NA                 </td><td>NA                 </td><td>NA                 </td><td>NA                 </td><td>NA                 </td><td>0                  </td><td>0                  </td><td>housewife          </td><td>field+ construction</td><td>0.00000            </td></tr>\n",
       "\t<tr><td>2003               </td><td>January            </td><td>first day          </td><td>6                  </td><td>42                 </td><td>Caste Revealed     </td><td>chamar             </td><td>0                  </td><td>0                  </td><td>6                  </td><td>...                </td><td>NA                 </td><td>NA                 </td><td>NA                 </td><td>NA                 </td><td>NA                 </td><td>6                  </td><td>10                 </td><td>housewife          </td><td>field              </td><td>0.00000            </td></tr>\n",
       "</tbody>\n",
       "</table>\n"
      ],
      "text/latex": [
       "\\begin{tabular}{r|llllllllllllllllllllllllll}\n",
       " year & month & day & studentid & groupna & treatment & caste & round1 & round2 & class & ... & math3 & math4 & hindi1 & hindi2 & hindi3 & mothedu & fathedu & mothocc & fathocc & land\\\\\n",
       "\\hline\n",
       "\t 2003                & January             & first day           & 1                   & 42                  & Caste Revealed      & kshatriya           & 4                   & 8                   & 7                   & ...                 & NA                  & NA                  & NA                  & NA                  & NA                  & 5                   & 10                  & housewife           & field               & 3.00000            \\\\\n",
       "\t 2003                & January             & first day           & 2                   & 42                  & Caste Revealed      & chamar              & 4                   & 4                   & 6                   & ...                 & NA                  & NA                  & NA                  & NA                  & NA                  & 0                   & 0                   & housewife           & field               & 0.79781            \\\\\n",
       "\t 2003                & January             & first day           & 3                   & 42                  & Caste Revealed      & kshatriya           & 1                   & 1                   & 6                   & ...                 & NA                  & NA                  & NA                  & NA                  & NA                  & 10                  & 8                   & housewife           & field               & 1.60000            \\\\\n",
       "\t 2003                & January             & first day           & 4                   & 42                  & Caste Revealed      & kshatriya           & 3                   & 3                   & 6                   & ...                 & NA                  & NA                  & NA                  & NA                  & NA                  & 0                   & 8                   & housewife           & field               & 1.83027            \\\\\n",
       "\t 2003                & January             & first day           & 5                   & 42                  & Caste Revealed      & chamar              & 5                   & 8                   & 7                   & ...                 & NA                  & NA                  & NA                  & NA                  & NA                  & 0                   & 0                   & housewife           & field+ construction & 0.00000            \\\\\n",
       "\t 2003                & January             & first day           & 6                   & 42                  & Caste Revealed      & chamar              & 0                   & 0                   & 6                   & ...                 & NA                  & NA                  & NA                  & NA                  & NA                  & 6                   & 10                  & housewife           & field               & 0.00000            \\\\\n",
       "\\end{tabular}\n"
      ],
      "text/markdown": [
       "\n",
       "| year | month | day | studentid | groupna | treatment | caste | round1 | round2 | class | ... | math3 | math4 | hindi1 | hindi2 | hindi3 | mothedu | fathedu | mothocc | fathocc | land |\n",
       "|---|---|---|---|---|---|---|---|---|---|---|---|---|---|---|---|---|---|---|---|---|\n",
       "| 2003                | January             | first day           | 1                   | 42                  | Caste Revealed      | kshatriya           | 4                   | 8                   | 7                   | ...                 | NA                  | NA                  | NA                  | NA                  | NA                  | 5                   | 10                  | housewife           | field               | 3.00000             |\n",
       "| 2003                | January             | first day           | 2                   | 42                  | Caste Revealed      | chamar              | 4                   | 4                   | 6                   | ...                 | NA                  | NA                  | NA                  | NA                  | NA                  | 0                   | 0                   | housewife           | field               | 0.79781             |\n",
       "| 2003                | January             | first day           | 3                   | 42                  | Caste Revealed      | kshatriya           | 1                   | 1                   | 6                   | ...                 | NA                  | NA                  | NA                  | NA                  | NA                  | 10                  | 8                   | housewife           | field               | 1.60000             |\n",
       "| 2003                | January             | first day           | 4                   | 42                  | Caste Revealed      | kshatriya           | 3                   | 3                   | 6                   | ...                 | NA                  | NA                  | NA                  | NA                  | NA                  | 0                   | 8                   | housewife           | field               | 1.83027             |\n",
       "| 2003                | January             | first day           | 5                   | 42                  | Caste Revealed      | chamar              | 5                   | 8                   | 7                   | ...                 | NA                  | NA                  | NA                  | NA                  | NA                  | 0                   | 0                   | housewife           | field+ construction | 0.00000             |\n",
       "| 2003                | January             | first day           | 6                   | 42                  | Caste Revealed      | chamar              | 0                   | 0                   | 6                   | ...                 | NA                  | NA                  | NA                  | NA                  | NA                  | 6                   | 10                  | housewife           | field               | 0.00000             |\n",
       "\n"
      ],
      "text/plain": [
       "  year month   day       studentid groupna treatment      caste     round1\n",
       "1 2003 January first day 1         42      Caste Revealed kshatriya 4     \n",
       "2 2003 January first day 2         42      Caste Revealed chamar    4     \n",
       "3 2003 January first day 3         42      Caste Revealed kshatriya 1     \n",
       "4 2003 January first day 4         42      Caste Revealed kshatriya 3     \n",
       "5 2003 January first day 5         42      Caste Revealed chamar    5     \n",
       "6 2003 January first day 6         42      Caste Revealed chamar    0     \n",
       "  round2 class ... math3 math4 hindi1 hindi2 hindi3 mothedu fathedu mothocc  \n",
       "1 8      7     ... NA    NA    NA     NA     NA     5       10      housewife\n",
       "2 4      6     ... NA    NA    NA     NA     NA     0       0       housewife\n",
       "3 1      6     ... NA    NA    NA     NA     NA     10      8       housewife\n",
       "4 3      6     ... NA    NA    NA     NA     NA     0       8       housewife\n",
       "5 8      7     ... NA    NA    NA     NA     NA     0       0       housewife\n",
       "6 0      6     ... NA    NA    NA     NA     NA     6       10      housewife\n",
       "  fathocc             land   \n",
       "1 field               3.00000\n",
       "2 field               0.79781\n",
       "3 field               1.60000\n",
       "4 field               1.83027\n",
       "5 field+ construction 0.00000\n",
       "6 field               0.00000"
      ]
     },
     "metadata": {},
     "output_type": "display_data"
    }
   ],
   "source": [
    "library(foreign)\n",
    "maze_data = read.dta('mazedata1.dta')\n",
    "head(maze_data)"
   ]
  },
  {
   "cell_type": "code",
   "execution_count": 16,
   "metadata": {},
   "outputs": [
    {
     "data": {
      "text/html": [
       "<table>\n",
       "<thead><tr><th></th><th scope=col>Bootstrap.intervals</th><th scope=col>Regression.intervals</th></tr></thead>\n",
       "<tbody>\n",
       "\t<tr><th scope=row>2.5%</th><td>-0.8846154</td><td>-0.2893112</td></tr>\n",
       "\t<tr><th scope=row>97.5%</th><td> 0.8846154</td><td> 0.6752087</td></tr>\n",
       "</tbody>\n",
       "</table>\n"
      ],
      "text/latex": [
       "\\begin{tabular}{r|ll}\n",
       "  & Bootstrap.intervals & Regression.intervals\\\\\n",
       "\\hline\n",
       "\t2.5\\% & -0.8846154 & -0.2893112\\\\\n",
       "\t97.5\\% &  0.8846154 &  0.6752087\\\\\n",
       "\\end{tabular}\n"
      ],
      "text/markdown": [
       "\n",
       "| <!--/--> | Bootstrap.intervals | Regression.intervals |\n",
       "|---|---|---|\n",
       "| 2.5% | -0.8846154 | -0.2893112 |\n",
       "| 97.5% |  0.8846154 |  0.6752087 |\n",
       "\n"
      ],
      "text/plain": [
       "      Bootstrap.intervals Regression.intervals\n",
       "2.5%  -0.8846154          -0.2893112          \n",
       "97.5%  0.8846154           0.6752087          "
      ]
     },
     "metadata": {},
     "output_type": "display_data"
    }
   ],
   "source": [
    "library(foreign)\n",
    "treatment_group = subset(maze_data, maze_data$treatment == 'Caste Revealed')\n",
    "control_group = subset(maze_data, maze_data$treatment != 'Caste Revealed')\n",
    "\n",
    "collector = c()\n",
    "\n",
    "# Bootstrapping Model\n",
    "for(i in 1:10000){\n",
    "    treatment_dependent <- maze_data$round1[sample(length(treatment_group),length(treatment_group),replace = TRUE)]\n",
    "    treatment_mean <- mean(treatment_dependent, na.rm = TRUE)\n",
    "\n",
    "    control_dependent <- maze_data$round1[sample(length(control_group), length(control_group), replace = TRUE)]\n",
    "    control_mean <- mean(control_dependent, na.rm = TRUE)\n",
    "    collector[i] <- treatment_mean - control_mean\n",
    "}\n",
    "\n",
    "#Setting value for a 95% CI\n",
    "CI = quantile(collector, probs = c(0.025, 0.975))\n",
    "\n",
    "#regression model\n",
    "reg = lm(round1~treatment, data=maze_data)\n",
    "intervals = confint(reg, level = 0.95)[2,]\n",
    "\n",
    "#Producing a table\n",
    "table = data.frame('Bootstrap intervals'= CI, 'Regression intervals'= intervals)\n",
    "table"
   ]
  },
  {
   "cell_type": "code",
   "execution_count": 17,
   "metadata": {},
   "outputs": [
    {
     "data": {
      "image/png": "[encoded data removed]",
      "text/plain": [
       "Plot with title \"Histogram of treatment effect\""
      ]
     },
     "metadata": {},
     "output_type": "display_data"
    }
   ],
   "source": [
    "#histogram\n",
    "hist(collector, main=\"Histogram of treatment effect\", xlab= \"Treatment effect\")\n",
    "abline(v = quantile(collector, probs = c(0.025, 0.975)))"
   ]
  },
  {
   "cell_type": "markdown",
   "metadata": {},
   "source": [
    "### Explanation\n",
    "\n",
    "Coefficient of the treatment variable in the linear model indicates the treatment effect, ~ -0.132. The 95% confidence interval ranges from ~ -0.584 to ~ 0.319, which means we lack strong evidence about the direction of the treatment effect. Analytical and simulation approaches yielded similar CIs, which provided extra confidence in this conclusion. "
   ]
  },
  {
   "cell_type": "markdown",
   "metadata": {},
   "source": [
    "## Question 5"
   ]
  },
  {
   "cell_type": "code",
   "execution_count": 18,
   "metadata": {},
   "outputs": [
    {
     "data": {
      "text/html": [
       "<table>\n",
       "<thead><tr><th scope=col>treat</th><th scope=col>age</th><th scope=col>education</th><th scope=col>black</th><th scope=col>hispanic</th><th scope=col>married</th><th scope=col>nodegree</th><th scope=col>re74</th><th scope=col>re75</th><th scope=col>re78</th><th scope=col>u74</th><th scope=col>u75</th></tr></thead>\n",
       "<tbody>\n",
       "\t<tr><td>1         </td><td>37        </td><td>11        </td><td>1         </td><td>0         </td><td>1         </td><td>1         </td><td>0         </td><td>0         </td><td> 9930.0459</td><td>TRUE      </td><td>TRUE      </td></tr>\n",
       "\t<tr><td>1         </td><td>22        </td><td> 9        </td><td>0         </td><td>1         </td><td>0         </td><td>1         </td><td>0         </td><td>0         </td><td> 3595.8940</td><td>TRUE      </td><td>TRUE      </td></tr>\n",
       "\t<tr><td>1         </td><td>30        </td><td>12        </td><td>1         </td><td>0         </td><td>0         </td><td>0         </td><td>0         </td><td>0         </td><td>24909.4492</td><td>TRUE      </td><td>TRUE      </td></tr>\n",
       "\t<tr><td>1         </td><td>27        </td><td>11        </td><td>1         </td><td>0         </td><td>0         </td><td>1         </td><td>0         </td><td>0         </td><td> 7506.1460</td><td>TRUE      </td><td>TRUE      </td></tr>\n",
       "\t<tr><td>1         </td><td>33        </td><td> 8        </td><td>1         </td><td>0         </td><td>0         </td><td>1         </td><td>0         </td><td>0         </td><td>  289.7899</td><td>TRUE      </td><td>TRUE      </td></tr>\n",
       "\t<tr><td>1         </td><td>22        </td><td> 9        </td><td>1         </td><td>0         </td><td>0         </td><td>1         </td><td>0         </td><td>0         </td><td> 4056.4939</td><td>TRUE      </td><td>TRUE      </td></tr>\n",
       "</tbody>\n",
       "</table>\n"
      ],
      "text/latex": [
       "\\begin{tabular}{r|llllllllllll}\n",
       " treat & age & education & black & hispanic & married & nodegree & re74 & re75 & re78 & u74 & u75\\\\\n",
       "\\hline\n",
       "\t 1          & 37         & 11         & 1          & 0          & 1          & 1          & 0          & 0          &  9930.0459 & TRUE       & TRUE      \\\\\n",
       "\t 1          & 22         &  9         & 0          & 1          & 0          & 1          & 0          & 0          &  3595.8940 & TRUE       & TRUE      \\\\\n",
       "\t 1          & 30         & 12         & 1          & 0          & 0          & 0          & 0          & 0          & 24909.4492 & TRUE       & TRUE      \\\\\n",
       "\t 1          & 27         & 11         & 1          & 0          & 0          & 1          & 0          & 0          &  7506.1460 & TRUE       & TRUE      \\\\\n",
       "\t 1          & 33         &  8         & 1          & 0          & 0          & 1          & 0          & 0          &   289.7899 & TRUE       & TRUE      \\\\\n",
       "\t 1          & 22         &  9         & 1          & 0          & 0          & 1          & 0          & 0          &  4056.4939 & TRUE       & TRUE      \\\\\n",
       "\\end{tabular}\n"
      ],
      "text/markdown": [
       "\n",
       "| treat | age | education | black | hispanic | married | nodegree | re74 | re75 | re78 | u74 | u75 |\n",
       "|---|---|---|---|---|---|---|---|---|---|---|---|\n",
       "| 1          | 37         | 11         | 1          | 0          | 1          | 1          | 0          | 0          |  9930.0459 | TRUE       | TRUE       |\n",
       "| 1          | 22         |  9         | 0          | 1          | 0          | 1          | 0          | 0          |  3595.8940 | TRUE       | TRUE       |\n",
       "| 1          | 30         | 12         | 1          | 0          | 0          | 0          | 0          | 0          | 24909.4492 | TRUE       | TRUE       |\n",
       "| 1          | 27         | 11         | 1          | 0          | 0          | 1          | 0          | 0          |  7506.1460 | TRUE       | TRUE       |\n",
       "| 1          | 33         |  8         | 1          | 0          | 0          | 1          | 0          | 0          |   289.7899 | TRUE       | TRUE       |\n",
       "| 1          | 22         |  9         | 1          | 0          | 0          | 1          | 0          | 0          |  4056.4939 | TRUE       | TRUE       |\n",
       "\n"
      ],
      "text/plain": [
       "  treat age education black hispanic married nodegree re74 re75 re78       u74 \n",
       "1 1     37  11        1     0        1       1        0    0     9930.0459 TRUE\n",
       "2 1     22   9        0     1        0       1        0    0     3595.8940 TRUE\n",
       "3 1     30  12        1     0        0       0        0    0    24909.4492 TRUE\n",
       "4 1     27  11        1     0        0       1        0    0     7506.1460 TRUE\n",
       "5 1     33   8        1     0        0       1        0    0      289.7899 TRUE\n",
       "6 1     22   9        1     0        0       1        0    0     4056.4939 TRUE\n",
       "  u75 \n",
       "1 TRUE\n",
       "2 TRUE\n",
       "3 TRUE\n",
       "4 TRUE\n",
       "5 TRUE\n",
       "6 TRUE"
      ]
     },
     "metadata": {},
     "output_type": "display_data"
    }
   ],
   "source": [
    "foo <- read.csv(url(\"https://tinyurl.com/yx8tqf3k\"))\n",
    "head(foo)"
   ]
  },
  {
   "cell_type": "code",
   "execution_count": 19,
   "metadata": {},
   "outputs": [],
   "source": [
    "set.seed(20181001)\n",
    "test_set_rows <- sample(1:length(foo$age), 2000, replace =FALSE)\n",
    "training = foo[-test_set_rows,]\n",
    "test = foo[test_set_rows,]"
   ]
  },
  {
   "cell_type": "markdown",
   "metadata": {},
   "source": [
    "### Use the remainder of the dataset to estimate 2 models of varying degrees of complexity, with the dependent variable being “treat”. The model specification is indicated by the table below (e.g. Prof. Diamond will build models in the A-F column). NOTE: re78 is not a predictor because it postdates the treatment. In other words, it’s an outcome."
   ]
  },
  {
   "cell_type": "code",
   "execution_count": null,
   "metadata": {},
   "outputs": [],
   "source": [
    "set.seed(20181001)\n",
    "library(boot)\n",
    "\n",
    "# Train your model on ALL the data -- Use glm instead of lm\n",
    "glm.training <- glm(treat ~ education, data = training)\n",
    "glm2.training <- glm(treat ~ .*. - re74 + age*education, data = training)\n",
    "\n",
    "\n",
    "# Using the K argument to perform K-fold CV\n",
    "simplecv.err2 <- cv.glm(training, glm.training , K = 10)\n",
    "complexcv.err2 <- cv.glm(training, glm2.training, K = 10)\n",
    "\n",
    "\n",
    "# cv.glm performs LOOCV \n",
    "simple.err <- cv.glm(training, glm.training)\n",
    "complex.err <- cv.glm(training, glm2.training)\n",
    "\n",
    "\n",
    "# This is the MSE of LOOCV\n",
    "simple.err$delta[1]\n",
    "#0.0113200377036034\n",
    "\n",
    "complex.err$delta[1]\n",
    "#0.0078608992503143\n",
    "\n",
    "\n",
    "# This is the MSE of K-fold CV\n",
    "simplecv.err2$delta[1]\n",
    "#0.0113210975276511\n",
    "\n",
    "complexcv.err2$delta[1] \n",
    "#0.00784698892261531"
   ]
  },
  {
   "cell_type": "code",
   "execution_count": null,
   "metadata": {},
   "outputs": [],
   "source": [
    "# test MSE from the models\n",
    "test.simple = mean((test$treat - predict.lm(glm.training,test))**2)\n",
    "test.complex = mean((test$treat - predict.lm(glm2.training,test))**2)\n",
    "\n",
    "loocv = c(simple.err$delta[1], complex.err$delta[1])\n",
    "cv = c(simplecv.err2$delta[1], complexcv.err2$delta[1])\n",
    "test = c(test.simple, test.complex)\n",
    "summary = data.frame('ten_fold CV' = cv, 'LOOCV' = cv, 'Test_set error' = test)\n",
    "row.names(summary) = c('Simple_model', 'Complex_model')\n",
    "summary"
   ]
  },
  {
   "cell_type": "markdown",
   "metadata": {},
   "source": [
    "In the above table we can see that, LOOCV slightely overapproximated the MSE in both cases but it is still a very good approximation of the MSE (~0.002 difference). This may be good in practice, as it doesn't give the wrong impression that the model is better than it actually is. The trade-off of using LOOCV is that it is very computationally expensive as it takes a lot of time (about 18 minutes) and memory to run. Moreover, the complex model gives a better MSE and LOOCV value as it might be overfitting the data because of so many independent variables."
   ]
  },
  {
   "cell_type": "markdown",
   "metadata": {},
   "source": [
    "## Question 6\n",
    "### Write the executive summary for a decision brief about the impact of an alcohol-awareness program targeted at individuals age 18-30, intended to reduce binge drinking\n",
    "\n",
    "### Purpose\n",
    "Here we are going to discuss the results from the Anti Alcohol consumption (AAC) experiment that took place in 17 different states across the US. The main purpose of this experiment was to reduce the rate of alcohol consumption among young adults aged between 18-30 years of age (shown in figure below).\n",
    "\n",
    "\n",
    "### The Methodology\n",
    "Almost 300 participants were randomly selected from different community colleges across these states and were assigned to either a climate change course or an AAC course. The people taking part in climate change course were the control group whereas the one's taking AAC were in the treatment group. Both the groups reported their weekly alcohol consumption along with some random extra information (for the blinding of the experiment). \n",
    "\n",
    "### Results\n",
    "The results show that before the experiment, weekly alcohol consumption was mostly similar across all the ages while there was a significant reduction in this consumption after the experiment. This experiment had most effect on the 18 years olds as the consumption was significantly lower for them (as shown in the figure), and relatively lower for ages 22-26. Consumption of treatment group was rougly same for all ages while among control group it decreased with age increase such that the difference around ages 28-30 was very little. Since the sample sizes were large, the large intervals are associated with the variability of consumption rather than being uncertainty of estimators. \n",
    "\n",
    "\n",
    "### Implication\n",
    "Thus, the results support administering the program to adults aged 18-20, and with secondary priority to provide it to adults aged 22-26. The course's efficiency seems lower for older participants.\n",
    "\n"
   ]
  },
  {
   "cell_type": "code",
   "execution_count": null,
   "metadata": {},
   "outputs": [],
   "source": [
    "trt = matrix(NA,nrow=2,ncol=7)\n",
    "ctrl = matrix(NA,nrow=2,ncol=7) \n",
    "\n",
    "trt[,1]=c(0, 2) #18\n",
    "ctrl[,1]=c(3, 10)\n",
    "trt[,2]=c(0, 3) #20\n",
    "ctrl[,2]=c(2, 8)\n",
    "trt[,3]=c(0, 4) #22\n",
    "ctrl[,3]=c(2, 7)\n",
    "trt[,4]=c(1, 3) #24\n",
    "ctrl[,4]=c(2, 6)\n",
    "trt[,5]=c(1, 3) #26\n",
    "ctrl[,5]=c(2, 5)\n",
    "trt[,6]=c(1, 3) #28\n",
    "ctrl[,6]=c(2, 4)\n",
    "trt[,7]=c(1, 2) #30\n",
    "ctrl[,7]=c(1, 3)\n",
    "\n",
    "\n",
    "c1 = rgb(red = 1, green = 0, blue = 0, alpha = 0.5) #trt\n",
    "c2 = rgb(red = 0, green = 0, blue = 1, alpha = 0.5) #ctrl\n",
    "\n",
    "plot(x = c(1:100), y = c(1:100), type = \"n\", xlim = c(17,31), ylim = c(0,11), cex.lab=1.2,\n",
    "     main = \"Alcohol Consumption - 95% Prediction Intervals\", xlab = \"Age\",ylab = \"Drinks per Week\")\n",
    "\n",
    "for (age in seq(from=18,to=30,by=2)) { \n",
    "  segments(x0 = age-0.05, y0 = trt[1, (age-18)/2+1],\n",
    "           x1 = age-0.05, y1 = trt[2, (age-18)/2+1],lwd = 3,col=c1)\n",
    "  \n",
    "  segments(x0 = age+0.05, y0 = ctrl[1, (age-18)/2+1],\n",
    "           x1 = age+0.05, y1 = ctrl[2, (age-18)/2+1],lwd = 3,col=c2)\n",
    "}\n",
    "legend('topright',legend=c('Treatment','Control'),fill=c(c1,c2))\n",
    "mtext(\"https://tinyurl.com/vwxuwop\", side = 1, cex = 0.5, adj = 0, padj = 10)"
   ]
  }
 ],
 "metadata": {
  "kernelspec": {
   "display_name": "R",
   "language": "R",
   "name": "ir"
  },
  "language_info": {
   "codemirror_mode": "r",
   "file_extension": ".r",
   "mimetype": "text/x-r-source",
   "name": "R",
   "pygments_lexer": "r",
   "version": "3.6.1"
  }
 },
 "nbformat": 4,
 "nbformat_minor": 2
}
