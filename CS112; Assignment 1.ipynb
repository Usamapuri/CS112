{
 "cells": [
  {
   "cell_type": "markdown",
   "metadata": {},
   "source": [
    "# CS112: Assignment 1\n",
    "##  R Competency and The Drivetrain Approach to Decision Making\n",
    "## Data Processing and Data Clean up"
   ]
  },
  {
   "cell_type": "code",
   "execution_count": 1,
   "metadata": {},
   "outputs": [],
   "source": [
    "### Multilateral Development Institution Data\n",
    "foo <- read.csv(\"https://tinyurl.com/yb4phxx8\") # read in the data"
   ]
  },
  {
   "cell_type": "code",
   "execution_count": 2,
   "metadata": {},
   "outputs": [
    {
     "data": {
      "text/html": [
       "<ol class=list-inline>\n",
       "\t<li>'Number'</li>\n",
       "\t<li>'Status'</li>\n",
       "\t<li>'Cluster'</li>\n",
       "\t<li>'Prefix'</li>\n",
       "\t<li>'Type'</li>\n",
       "\t<li>'Country'</li>\n",
       "\t<li>'Dept'</li>\n",
       "\t<li>'Division'</li>\n",
       "\t<li>'LTAA'</li>\n",
       "\t<li>'Loan'</li>\n",
       "\t<li>'ApprovalDate'</li>\n",
       "\t<li>'AgreementDate'</li>\n",
       "\t<li>'Agreement'</li>\n",
       "\t<li>'EffectivityDate'</li>\n",
       "\t<li>'CancellationDate'</li>\n",
       "\t<li>'FinancialCompletionDate'</li>\n",
       "\t<li>'OriginalCompletionDate'</li>\n",
       "\t<li>'RevisedCompletionDate'</li>\n",
       "\t<li>'JSF'</li>\n",
       "\t<li>'Fund'</li>\n",
       "\t<li>'RevisedAmount'</li>\n",
       "\t<li>'Rating'</li>\n",
       "\t<li>'No'</li>\n",
       "\t<li>'PCR'</li>\n",
       "\t<li>'CirculationDate'</li>\n",
       "</ol>\n"
      ],
      "text/latex": [
       "\\begin{enumerate*}\n",
       "\\item 'Number'\n",
       "\\item 'Status'\n",
       "\\item 'Cluster'\n",
       "\\item 'Prefix'\n",
       "\\item 'Type'\n",
       "\\item 'Country'\n",
       "\\item 'Dept'\n",
       "\\item 'Division'\n",
       "\\item 'LTAA'\n",
       "\\item 'Loan'\n",
       "\\item 'ApprovalDate'\n",
       "\\item 'AgreementDate'\n",
       "\\item 'Agreement'\n",
       "\\item 'EffectivityDate'\n",
       "\\item 'CancellationDate'\n",
       "\\item 'FinancialCompletionDate'\n",
       "\\item 'OriginalCompletionDate'\n",
       "\\item 'RevisedCompletionDate'\n",
       "\\item 'JSF'\n",
       "\\item 'Fund'\n",
       "\\item 'RevisedAmount'\n",
       "\\item 'Rating'\n",
       "\\item 'No'\n",
       "\\item 'PCR'\n",
       "\\item 'CirculationDate'\n",
       "\\end{enumerate*}\n"
      ],
      "text/markdown": [
       "1. 'Number'\n",
       "2. 'Status'\n",
       "3. 'Cluster'\n",
       "4. 'Prefix'\n",
       "5. 'Type'\n",
       "6. 'Country'\n",
       "7. 'Dept'\n",
       "8. 'Division'\n",
       "9. 'LTAA'\n",
       "10. 'Loan'\n",
       "11. 'ApprovalDate'\n",
       "12. 'AgreementDate'\n",
       "13. 'Agreement'\n",
       "14. 'EffectivityDate'\n",
       "15. 'CancellationDate'\n",
       "16. 'FinancialCompletionDate'\n",
       "17. 'OriginalCompletionDate'\n",
       "18. 'RevisedCompletionDate'\n",
       "19. 'JSF'\n",
       "20. 'Fund'\n",
       "21. 'RevisedAmount'\n",
       "22. 'Rating'\n",
       "23. 'No'\n",
       "24. 'PCR'\n",
       "25. 'CirculationDate'\n",
       "\n",
       "\n"
      ],
      "text/plain": [
       " [1] \"Number\"                  \"Status\"                 \n",
       " [3] \"Cluster\"                 \"Prefix\"                 \n",
       " [5] \"Type\"                    \"Country\"                \n",
       " [7] \"Dept\"                    \"Division\"               \n",
       " [9] \"LTAA\"                    \"Loan\"                   \n",
       "[11] \"ApprovalDate\"            \"AgreementDate\"          \n",
       "[13] \"Agreement\"               \"EffectivityDate\"        \n",
       "[15] \"CancellationDate\"        \"FinancialCompletionDate\"\n",
       "[17] \"OriginalCompletionDate\"  \"RevisedCompletionDate\"  \n",
       "[19] \"JSF\"                     \"Fund\"                   \n",
       "[21] \"RevisedAmount\"           \"Rating\"                 \n",
       "[23] \"No\"                      \"PCR\"                    \n",
       "[25] \"CirculationDate\"        "
      ]
     },
     "metadata": {},
     "output_type": "display_data"
    }
   ],
   "source": [
    "# column names\n",
    "names(foo)"
   ]
  },
  {
   "cell_type": "code",
   "execution_count": 3,
   "metadata": {},
   "outputs": [
    {
     "data": {
      "text/html": [
       "<ol class=list-inline>\n",
       "\t<li>9016</li>\n",
       "\t<li>25</li>\n",
       "</ol>\n"
      ],
      "text/latex": [
       "\\begin{enumerate*}\n",
       "\\item 9016\n",
       "\\item 25\n",
       "\\end{enumerate*}\n"
      ],
      "text/markdown": [
       "1. 9016\n",
       "2. 25\n",
       "\n",
       "\n"
      ],
      "text/plain": [
       "[1] 9016   25"
      ]
     },
     "metadata": {},
     "output_type": "display_data"
    }
   ],
   "source": [
    "# dimensions of the data set\n",
    "dim(foo)"
   ]
  },
  {
   "cell_type": "code",
   "execution_count": 4,
   "metadata": {},
   "outputs": [
    {
     "data": {
      "text/html": [
       "<table>\n",
       "<thead><tr><th scope=col>Number</th><th scope=col>Status</th><th scope=col>Cluster</th><th scope=col>Prefix</th><th scope=col>Type</th><th scope=col>Country</th><th scope=col>Dept</th><th scope=col>Division</th><th scope=col>LTAA</th><th scope=col>Loan</th><th scope=col>...</th><th scope=col>FinancialCompletionDate</th><th scope=col>OriginalCompletionDate</th><th scope=col>RevisedCompletionDate</th><th scope=col>JSF</th><th scope=col>Fund</th><th scope=col>RevisedAmount</th><th scope=col>Rating</th><th scope=col>No</th><th scope=col>PCR</th><th scope=col>CirculationDate</th></tr></thead>\n",
       "<tbody>\n",
       "\t<tr><td>5001                                                </td><td>Financially Completed                               </td><td>                                                    </td><td>R                                                   </td><td>RETA                                                </td><td>REG                                                 </td><td>                                                    </td><td>                                                    </td><td>Agriculture, natural resources and rural development</td><td>0                                                   </td><td>...                                                 </td><td>1987-12-31                                          </td><td>                                                    </td><td>1987-12-31                                          </td><td>NA                                                  </td><td>2                                                   </td><td>0.155                                               </td><td>NA                                                  </td><td>                                                    </td><td>                                                    </td><td>                                                    </td></tr>\n",
       "\t<tr><td>   1                                                </td><td>Financially Completed                               </td><td>                                                    </td><td>                                                    </td><td>ADTA                                                </td><td>INO                                                 </td><td>                                                    </td><td>                                                    </td><td>Agriculture, natural resources and rural development</td><td>0                                                   </td><td>...                                                 </td><td>1968-07-31                                          </td><td>                                                    </td><td>1968-07-31                                          </td><td>NA                                                  </td><td>2                                                   </td><td>0.080                                               </td><td>NA                                                  </td><td>                                                    </td><td>                                                    </td><td>                                                    </td></tr>\n",
       "\t<tr><td>   2                                                </td><td>Financially Completed                               </td><td>                                                    </td><td>                                                    </td><td>ADTA                                                </td><td>KOR                                                 </td><td>                                                    </td><td>                                                    </td><td>Agriculture, natural resources and rural development</td><td>0                                                   </td><td>...                                                 </td><td>1969-10-31                                          </td><td>                                                    </td><td>1969-10-31                                          </td><td>NA                                                  </td><td>2                                                   </td><td>0.067                                               </td><td>NA                                                  </td><td>                                                    </td><td>                                                    </td><td>                                                    </td></tr>\n",
       "\t<tr><td>   3                                                </td><td>Financially Completed                               </td><td>                                                    </td><td>                                                    </td><td>ADTA                                                </td><td>PHI                                                 </td><td>                                                    </td><td>                                                    </td><td>Agriculture, natural resources and rural development</td><td>0                                                   </td><td>...                                                 </td><td>1970-01-31                                          </td><td>                                                    </td><td>1970-01-31                                          </td><td>NA                                                  </td><td>2                                                   </td><td>0.105                                               </td><td>NA                                                  </td><td>                                                    </td><td>                                                    </td><td>                                                    </td></tr>\n",
       "\t<tr><td>   4                                                </td><td>Financially Completed                               </td><td>                                                    </td><td>                                                    </td><td>ADTA                                                </td><td>VIE                                                 </td><td>                                                    </td><td>                                                    </td><td>Finance                                             </td><td>0                                                   </td><td>...                                                 </td><td>1972-08-31                                          </td><td>                                                    </td><td>1972-08-31                                          </td><td>NA                                                  </td><td>2                                                   </td><td>0.115                                               </td><td>NA                                                  </td><td>                                                    </td><td>                                                    </td><td>                                                    </td></tr>\n",
       "\t<tr><td>   5                                                </td><td>Financially Completed                               </td><td>                                                    </td><td>                                                    </td><td>PPTA                                                </td><td>PHI                                                 </td><td>                                                    </td><td>                                                    </td><td>Transport                                           </td><td>0                                                   </td><td>...                                                 </td><td>1970-03-31                                          </td><td>                                                    </td><td>1970-03-31                                          </td><td>NA                                                  </td><td>2                                                   </td><td>0.325                                               </td><td>NA                                                  </td><td>                                                    </td><td>                                                    </td><td>                                                    </td></tr>\n",
       "</tbody>\n",
       "</table>\n"
      ],
      "text/latex": [
       "\\begin{tabular}{r|lllllllllllllllllllllllll}\n",
       " Number & Status & Cluster & Prefix & Type & Country & Dept & Division & LTAA & Loan & ... & FinancialCompletionDate & OriginalCompletionDate & RevisedCompletionDate & JSF & Fund & RevisedAmount & Rating & No & PCR & CirculationDate\\\\\n",
       "\\hline\n",
       "\t 5001                                                 & Financially Completed                                &                                                      & R                                                    & RETA                                                 & REG                                                  &                                                      &                                                      & Agriculture, natural resources and rural development & 0                                                    & ...                                                  & 1987-12-31                                           &                                                      & 1987-12-31                                           & NA                                                   & 2                                                    & 0.155                                                & NA                                                   &                                                      &                                                      &                                                     \\\\\n",
       "\t    1                                                 & Financially Completed                                &                                                      &                                                      & ADTA                                                 & INO                                                  &                                                      &                                                      & Agriculture, natural resources and rural development & 0                                                    & ...                                                  & 1968-07-31                                           &                                                      & 1968-07-31                                           & NA                                                   & 2                                                    & 0.080                                                & NA                                                   &                                                      &                                                      &                                                     \\\\\n",
       "\t    2                                                 & Financially Completed                                &                                                      &                                                      & ADTA                                                 & KOR                                                  &                                                      &                                                      & Agriculture, natural resources and rural development & 0                                                    & ...                                                  & 1969-10-31                                           &                                                      & 1969-10-31                                           & NA                                                   & 2                                                    & 0.067                                                & NA                                                   &                                                      &                                                      &                                                     \\\\\n",
       "\t    3                                                 & Financially Completed                                &                                                      &                                                      & ADTA                                                 & PHI                                                  &                                                      &                                                      & Agriculture, natural resources and rural development & 0                                                    & ...                                                  & 1970-01-31                                           &                                                      & 1970-01-31                                           & NA                                                   & 2                                                    & 0.105                                                & NA                                                   &                                                      &                                                      &                                                     \\\\\n",
       "\t    4                                                 & Financially Completed                                &                                                      &                                                      & ADTA                                                 & VIE                                                  &                                                      &                                                      & Finance                                              & 0                                                    & ...                                                  & 1972-08-31                                           &                                                      & 1972-08-31                                           & NA                                                   & 2                                                    & 0.115                                                & NA                                                   &                                                      &                                                      &                                                     \\\\\n",
       "\t    5                                                 & Financially Completed                                &                                                      &                                                      & PPTA                                                 & PHI                                                  &                                                      &                                                      & Transport                                            & 0                                                    & ...                                                  & 1970-03-31                                           &                                                      & 1970-03-31                                           & NA                                                   & 2                                                    & 0.325                                                & NA                                                   &                                                      &                                                      &                                                     \\\\\n",
       "\\end{tabular}\n"
      ],
      "text/markdown": [
       "\n",
       "| Number | Status | Cluster | Prefix | Type | Country | Dept | Division | LTAA | Loan | ... | FinancialCompletionDate | OriginalCompletionDate | RevisedCompletionDate | JSF | Fund | RevisedAmount | Rating | No | PCR | CirculationDate |\n",
       "|---|---|---|---|---|---|---|---|---|---|---|---|---|---|---|---|---|---|---|---|---|\n",
       "| 5001                                                 | Financially Completed                                |                                                      | R                                                    | RETA                                                 | REG                                                  |                                                      |                                                      | Agriculture, natural resources and rural development | 0                                                    | ...                                                  | 1987-12-31                                           |                                                      | 1987-12-31                                           | NA                                                   | 2                                                    | 0.155                                                | NA                                                   |                                                      |                                                      |                                                      |\n",
       "|    1                                                 | Financially Completed                                |                                                      |                                                      | ADTA                                                 | INO                                                  |                                                      |                                                      | Agriculture, natural resources and rural development | 0                                                    | ...                                                  | 1968-07-31                                           |                                                      | 1968-07-31                                           | NA                                                   | 2                                                    | 0.080                                                | NA                                                   |                                                      |                                                      |                                                      |\n",
       "|    2                                                 | Financially Completed                                |                                                      |                                                      | ADTA                                                 | KOR                                                  |                                                      |                                                      | Agriculture, natural resources and rural development | 0                                                    | ...                                                  | 1969-10-31                                           |                                                      | 1969-10-31                                           | NA                                                   | 2                                                    | 0.067                                                | NA                                                   |                                                      |                                                      |                                                      |\n",
       "|    3                                                 | Financially Completed                                |                                                      |                                                      | ADTA                                                 | PHI                                                  |                                                      |                                                      | Agriculture, natural resources and rural development | 0                                                    | ...                                                  | 1970-01-31                                           |                                                      | 1970-01-31                                           | NA                                                   | 2                                                    | 0.105                                                | NA                                                   |                                                      |                                                      |                                                      |\n",
       "|    4                                                 | Financially Completed                                |                                                      |                                                      | ADTA                                                 | VIE                                                  |                                                      |                                                      | Finance                                              | 0                                                    | ...                                                  | 1972-08-31                                           |                                                      | 1972-08-31                                           | NA                                                   | 2                                                    | 0.115                                                | NA                                                   |                                                      |                                                      |                                                      |\n",
       "|    5                                                 | Financially Completed                                |                                                      |                                                      | PPTA                                                 | PHI                                                  |                                                      |                                                      | Transport                                            | 0                                                    | ...                                                  | 1970-03-31                                           |                                                      | 1970-03-31                                           | NA                                                   | 2                                                    | 0.325                                                | NA                                                   |                                                      |                                                      |                                                      |\n",
       "\n"
      ],
      "text/plain": [
       "  Number Status                Cluster Prefix Type Country Dept Division\n",
       "1 5001   Financially Completed         R      RETA REG                  \n",
       "2    1   Financially Completed                ADTA INO                  \n",
       "3    2   Financially Completed                ADTA KOR                  \n",
       "4    3   Financially Completed                ADTA PHI                  \n",
       "5    4   Financially Completed                ADTA VIE                  \n",
       "6    5   Financially Completed                PPTA PHI                  \n",
       "  LTAA                                                 Loan ...\n",
       "1 Agriculture, natural resources and rural development 0    ...\n",
       "2 Agriculture, natural resources and rural development 0    ...\n",
       "3 Agriculture, natural resources and rural development 0    ...\n",
       "4 Agriculture, natural resources and rural development 0    ...\n",
       "5 Finance                                              0    ...\n",
       "6 Transport                                            0    ...\n",
       "  FinancialCompletionDate OriginalCompletionDate RevisedCompletionDate JSF Fund\n",
       "1 1987-12-31                                     1987-12-31            NA  2   \n",
       "2 1968-07-31                                     1968-07-31            NA  2   \n",
       "3 1969-10-31                                     1969-10-31            NA  2   \n",
       "4 1970-01-31                                     1970-01-31            NA  2   \n",
       "5 1972-08-31                                     1972-08-31            NA  2   \n",
       "6 1970-03-31                                     1970-03-31            NA  2   \n",
       "  RevisedAmount Rating No PCR CirculationDate\n",
       "1 0.155         NA                           \n",
       "2 0.080         NA                           \n",
       "3 0.067         NA                           \n",
       "4 0.105         NA                           \n",
       "5 0.115         NA                           \n",
       "6 0.325         NA                           "
      ]
     },
     "metadata": {},
     "output_type": "display_data"
    }
   ],
   "source": [
    "# quick look at the data structure\n",
    "head (foo)"
   ]
  },
  {
   "cell_type": "code",
   "execution_count": 5,
   "metadata": {},
   "outputs": [],
   "source": [
    "#columns representing calendar dates\n",
    "date.columns <- c(11 , 12 , 14 , 15 , 16 , 17 , 18 , 25)"
   ]
  },
  {
   "cell_type": "code",
   "execution_count": 6,
   "metadata": {},
   "outputs": [
    {
     "data": {
      "text/html": [
       "<time datetime=\"1968-03-13\">1968-03-13</time>"
      ],
      "text/latex": [
       "1968-03-13"
      ],
      "text/markdown": [
       "1968-03-13"
      ],
      "text/plain": [
       "[1] \"1968-03-13\""
      ]
     },
     "metadata": {},
     "output_type": "display_data"
    },
    {
     "data": {
      "text/html": [
       "<time datetime=\"1968-07-03\">1968-07-03</time>"
      ],
      "text/latex": [
       "1968-07-03"
      ],
      "text/markdown": [
       "1968-07-03"
      ],
      "text/plain": [
       "[1] \"1968-07-03\""
      ]
     },
     "metadata": {},
     "output_type": "display_data"
    },
    {
     "data": {
      "text/plain": [
       "Time difference of -112 days"
      ]
     },
     "metadata": {},
     "output_type": "display_data"
    }
   ],
   "source": [
    "for( i in date.columns ) # looping through the \" date.columns \"\n",
    "{\n",
    "# Finding missing values\n",
    "which_values_are_missing <- which (as.character(foo[,i])==\"\")\n",
    "# Replacing them by NAs\n",
    "foo [which_values_are_missing , i] <- NA\n",
    "# Turning values into dates\n",
    "foo [,i]<-as.Date(as.character(foo[,i]))\n",
    "}\n",
    " # Try this yourself\n",
    "foo[3,12]\n",
    "# [1] \"1968 -03 -13\"\n",
    "foo[4 ,12]\n",
    "# [1] \"1968 -07 -03\"\n",
    "foo[3 ,12] - foo [4 ,12]\n",
    "\n",
    "\n",
    "# Removing NAs for a given column\n",
    "which.have.NAs <- which(is.na(foo$ Rating ) )\n",
    "new_foo <- foo [ - which.have.NAs , ]"
   ]
  },
  {
   "cell_type": "markdown",
   "metadata": {},
   "source": [
    "## Assignment Coding and Tasks"
   ]
  },
  {
   "cell_type": "code",
   "execution_count": 7,
   "metadata": {},
   "outputs": [],
   "source": [
    "# filter to exclude NAs in circulation date\n",
    "which.have.NAs <- which(is.na(foo$CirculationDate))\n",
    "circulation_removal <- new_foo[-which.have.NAs, ]"
   ]
  },
  {
   "cell_type": "code",
   "execution_count": 8,
   "metadata": {},
   "outputs": [],
   "source": [
    "# filter to include circulation dates after 2009\n",
    "which.after_2009 <- which(circulation_removal$CirculationDate <= as.Date(\"2009-01-01\"))\n",
    "data <- circulation_removal[-which.after_2009, ]\n",
    "#summary(data)"
   ]
  },
  {
   "cell_type": "markdown",
   "metadata": {},
   "source": [
    "Summary(data) is used to check the min value of the current dataset which is 2009-02-25. Hence, our current dataset only includes projects with non-missing circulation dates after 2009-01-01"
   ]
  },
  {
   "cell_type": "markdown",
   "metadata": {},
   "source": [
    "###  Task 1\n",
    "#### When projects are approved, they are approved for a certain period (until the time of “original completion date”). While projects are active, this “original” completion date is often extended, and then there is a “revised” completion date. You have been told that project duration at approval is generally about two years (24 months). In other words, (purportedly) when projects are approved, the difference between the original project completion date and the approval date is (supposedly) approximately 24 months.\n",
    "\n",
    "#### (A) Is this claim true? Explain.\n"
   ]
  },
  {
   "cell_type": "code",
   "execution_count": 9,
   "metadata": {},
   "outputs": [
    {
     "data": {
      "text/html": [
       "<dl class=dl-horizontal>\n",
       "\t<dt>Min.</dt>\n",
       "\t\t<dd><time datetime=\"2009-01-14\">2009-01-14</time></dd>\n",
       "\t<dt>1st Qu.</dt>\n",
       "\t\t<dd><time datetime=\"2011-07-21\">2011-07-21</time></dd>\n",
       "\t<dt>Median</dt>\n",
       "\t\t<dd><time datetime=\"2014-02-03\">2014-02-03</time></dd>\n",
       "\t<dt>Mean</dt>\n",
       "\t\t<dd><time datetime=\"2013-12-02\">2013-12-02</time></dd>\n",
       "\t<dt>3rd Qu.</dt>\n",
       "\t\t<dd><time datetime=\"2016-06-17\">2016-06-17</time></dd>\n",
       "\t<dt>Max.</dt>\n",
       "\t\t<dd><time datetime=\"2018-06-29\">2018-06-29</time></dd>\n",
       "</dl>\n"
      ],
      "text/latex": [
       "\\begin{description*}\n",
       "\\item[Min.] 2009-01-14\n",
       "\\item[1st Qu.] 2011-07-21\n",
       "\\item[Median] 2014-02-03\n",
       "\\item[Mean] 2013-12-02\n",
       "\\item[3rd Qu.] 2016-06-17\n",
       "\\item[Max.] 2018-06-29\n",
       "\\end{description*}\n"
      ],
      "text/markdown": [
       "Min.\n",
       ":   2009-01-141st Qu.\n",
       ":   2011-07-21Median\n",
       ":   2014-02-03Mean\n",
       ":   2013-12-023rd Qu.\n",
       ":   2016-06-17Max.\n",
       ":   2018-06-29\n",
       "\n"
      ],
      "text/plain": [
       "        Min.      1st Qu.       Median         Mean      3rd Qu.         Max. \n",
       "\"2009-01-14\" \"2011-07-21\" \"2014-02-03\" \"2013-12-02\" \"2016-06-17\" \"2018-06-29\" "
      ]
     },
     "metadata": {},
     "output_type": "display_data"
    },
    {
     "data": {
      "text/plain": [
       "Time difference of 650.9313 days"
      ]
     },
     "metadata": {},
     "output_type": "display_data"
    },
    {
     "data": {
      "text/plain": [
       "Time difference of 1.783374 days"
      ]
     },
     "metadata": {},
     "output_type": "display_data"
    }
   ],
   "source": [
    "noNA_foo <- new_foo[!is.na(new_foo$CirculationDate), ]\n",
    "df <- noNA_foo[which(noNA_foo$CirculationDate >= as.Date(\"2009-01-01\")), ]\n",
    "\n",
    "# Check:\n",
    "summary(df$CirculationDate)\n",
    "\n",
    "# Disregarding projects have no original completion dates.\n",
    "\n",
    "\n",
    "mask <- which(is.na(df$OriginalCompletionDate))\n",
    "df_withDates <- df[-mask,]\n",
    "expected_duration <- mean(df_withDates$OriginalCompletionDate) - mean(df_withDates$ApprovalDate) \n",
    "expected_duration\n",
    "time_in_years <- expected_duration/365\n",
    "time_in_years"
   ]
  },
  {
   "cell_type": "markdown",
   "metadata": {},
   "source": [
    "#### (B) Has the length of project delay, measured as the difference between “OriginalCompletionDate” and “RevisedCompletionDate”, changed over time (consider projects circulated earlier and circulated later)? You will need to make a choice of how to deal with missing information, which you should explicitly discuss. Be sure to also discuss 3 mean delays, median delays, and the interquartile range of delays (using the “quantile” function). Approximate suggested length: 3-5 sentences."
   ]
  },
  {
   "cell_type": "code",
   "execution_count": 19,
   "metadata": {
    "scrolled": false
   },
   "outputs": [
    {
     "data": {
      "text/html": [
       "0"
      ],
      "text/latex": [
       "0"
      ],
      "text/markdown": [
       "0"
      ],
      "text/plain": [
       "[1] 0"
      ]
     },
     "metadata": {},
     "output_type": "display_data"
    },
    {
     "data": {
      "text/html": [
       "<table>\n",
       "<thead><tr><th scope=col>CirculationYear</th><th scope=col>mean.delay</th><th scope=col>median.delay</th><th scope=col>IQR.delay</th></tr></thead>\n",
       "<tbody>\n",
       "\t<tr><td>2009         </td><td>657.7644 days</td><td>549.0 days   </td><td>610.00 days  </td></tr>\n",
       "\t<tr><td>2010         </td><td>634.0000 days</td><td>547.0 days   </td><td>511.25 days  </td></tr>\n",
       "\t<tr><td>2011         </td><td>584.7664 days</td><td>426.0 days   </td><td>610.00 days  </td></tr>\n",
       "\t<tr><td>2012         </td><td>538.2390 days</td><td>487.0 days   </td><td>409.50 days  </td></tr>\n",
       "\t<tr><td>2013         </td><td>503.5893 days</td><td>396.0 days   </td><td>493.00 days  </td></tr>\n",
       "\t<tr><td>2014         </td><td>520.1750 days</td><td>457.0 days   </td><td>396.25 days  </td></tr>\n",
       "\t<tr><td>2015         </td><td>626.9821 days</td><td>442.0 days   </td><td>677.25 days  </td></tr>\n",
       "\t<tr><td>2016         </td><td>529.3702 days</td><td>366.0 days   </td><td>518.00 days  </td></tr>\n",
       "\t<tr><td>2017         </td><td>540.1632 days</td><td>456.0 days   </td><td>545.75 days  </td></tr>\n",
       "\t<tr><td>2018         </td><td>566.1905 days</td><td>365.5 days   </td><td>418.50 days  </td></tr>\n",
       "</tbody>\n",
       "</table>\n"
      ],
      "text/latex": [
       "\\begin{tabular}{r|llll}\n",
       " CirculationYear & mean.delay & median.delay & IQR.delay\\\\\n",
       "\\hline\n",
       "\t 2009          & 657.7644 days & 549.0 days    & 610.00 days  \\\\\n",
       "\t 2010          & 634.0000 days & 547.0 days    & 511.25 days  \\\\\n",
       "\t 2011          & 584.7664 days & 426.0 days    & 610.00 days  \\\\\n",
       "\t 2012          & 538.2390 days & 487.0 days    & 409.50 days  \\\\\n",
       "\t 2013          & 503.5893 days & 396.0 days    & 493.00 days  \\\\\n",
       "\t 2014          & 520.1750 days & 457.0 days    & 396.25 days  \\\\\n",
       "\t 2015          & 626.9821 days & 442.0 days    & 677.25 days  \\\\\n",
       "\t 2016          & 529.3702 days & 366.0 days    & 518.00 days  \\\\\n",
       "\t 2017          & 540.1632 days & 456.0 days    & 545.75 days  \\\\\n",
       "\t 2018          & 566.1905 days & 365.5 days    & 418.50 days  \\\\\n",
       "\\end{tabular}\n"
      ],
      "text/markdown": [
       "\n",
       "| CirculationYear | mean.delay | median.delay | IQR.delay |\n",
       "|---|---|---|---|\n",
       "| 2009          | 657.7644 days | 549.0 days    | 610.00 days   |\n",
       "| 2010          | 634.0000 days | 547.0 days    | 511.25 days   |\n",
       "| 2011          | 584.7664 days | 426.0 days    | 610.00 days   |\n",
       "| 2012          | 538.2390 days | 487.0 days    | 409.50 days   |\n",
       "| 2013          | 503.5893 days | 396.0 days    | 493.00 days   |\n",
       "| 2014          | 520.1750 days | 457.0 days    | 396.25 days   |\n",
       "| 2015          | 626.9821 days | 442.0 days    | 677.25 days   |\n",
       "| 2016          | 529.3702 days | 366.0 days    | 518.00 days   |\n",
       "| 2017          | 540.1632 days | 456.0 days    | 545.75 days   |\n",
       "| 2018          | 566.1905 days | 365.5 days    | 418.50 days   |\n",
       "\n"
      ],
      "text/plain": [
       "   CirculationYear mean.delay    median.delay IQR.delay  \n",
       "1  2009            657.7644 days 549.0 days   610.00 days\n",
       "2  2010            634.0000 days 547.0 days   511.25 days\n",
       "3  2011            584.7664 days 426.0 days   610.00 days\n",
       "4  2012            538.2390 days 487.0 days   409.50 days\n",
       "5  2013            503.5893 days 396.0 days   493.00 days\n",
       "6  2014            520.1750 days 457.0 days   396.25 days\n",
       "7  2015            626.9821 days 442.0 days   677.25 days\n",
       "8  2016            529.3702 days 366.0 days   518.00 days\n",
       "9  2017            540.1632 days 456.0 days   545.75 days\n",
       "10 2018            566.1905 days 365.5 days   418.50 days"
      ]
     },
     "metadata": {},
     "output_type": "display_data"
    },
    {
     "data": {
      "image/png": "[encoded data removed]",
      "text/plain": [
       "Plot with title \"Project Delay\""
      ]
     },
     "metadata": {},
     "output_type": "display_data"
    }
   ],
   "source": [
    "# Createing a circulation year column\n",
    "df_withDates$CirculationYear <- format(df_withDates$CirculationDate, \"%Y\")\n",
    "\n",
    "# Checking if there are rows with NAs in the Revised Completion Date column?\n",
    "sum(is.na(df_withDates$RevisedCompletionDate))\n",
    "\n",
    "# And an delay column\n",
    "df_withDates$Delay <- df_withDates$RevisedCompletionDate - df_withDates$OriginalCompletionDate \n",
    "\n",
    "library(dplyr)  \n",
    "delayByYear <- df_withDates %>%  # %>% means \"pass what is to the left to the function that follows\"\n",
    "  group_by(CirculationYear) %>%    \n",
    "  summarise(mean.delay = mean(Delay), \n",
    "            median.delay = median(Delay),\n",
    "            IQR.delay = quantile(Delay, 0.75) - quantile(Delay, 0.25))\n",
    "delayByYear\n",
    "\n",
    "plot(delayByYear$CirculationYear, delayByYear$mean.delay, \n",
    "     pch=15, col=\"red\", ylim=c(100, 800), \n",
    "     xlab=\"Circulation Year\", ylab=\"Delay (days)\", main=\"Project Delay\")\n",
    "points(delayByYear$CirculationYear, delayByYear$median.delay, pch=16, col=\"blue\")\n",
    "points(delayByYear$CirculationYear, delayByYear$IQR.delay, pch=17, col=\"green\")\n",
    "legend(\"bottomleft\", pch=c(15,16,17), \n",
    "       col=c(\"red\",\"blue\",\"green\"), \n",
    "       legend=c(\"Mean Delay\", \"Median Delay\", \"Interquartile Range of Delays\"))\n",
    "grid(nx=NA, ny=NULL)"
   ]
  },
  {
   "cell_type": "markdown",
   "metadata": {},
   "source": [
    "#### (C) How does the original planned project duration differ from actual duration (if the actual duration is measured as the duration between “ApprovalDate” and “RevisedComple- tionDate”)? Once again, use means, medians, and interquartile ranges to explain your results. Approximate suggested length: 3-5 sentences."
   ]
  },
  {
   "cell_type": "code",
   "execution_count": 20,
   "metadata": {},
   "outputs": [
    {
     "data": {
      "text/plain": [
       "Time difference of 1220.019 days"
      ]
     },
     "metadata": {},
     "output_type": "display_data"
    },
    {
     "data": {
      "text/plain": [
       "Time difference of 1120.5 days"
      ]
     },
     "metadata": {},
     "output_type": "display_data"
    },
    {
     "data": {
      "text/plain": [
       "Time differences in days\n",
       "     0%     25%     50%     75%    100% \n",
       "  56.00  838.25 1120.50 1482.75 4395.00 "
      ]
     },
     "metadata": {},
     "output_type": "display_data"
    },
    {
     "data": {
      "text/html": [
       "644.5"
      ],
      "text/latex": [
       "644.5"
      ],
      "text/markdown": [
       "644.5"
      ],
      "text/plain": [
       "[1] 644.5"
      ]
     },
     "metadata": {},
     "output_type": "display_data"
    },
    {
     "data": {
      "text/plain": [
       "Time difference of 650.9313 days"
      ]
     },
     "metadata": {},
     "output_type": "display_data"
    },
    {
     "data": {
      "text/plain": [
       "Time difference of 599.5 days"
      ]
     },
     "metadata": {},
     "output_type": "display_data"
    },
    {
     "data": {
      "text/plain": [
       "Time differences in days\n",
       "     0%     25%     50%     75%    100% \n",
       "  18.00  406.25  599.50  792.00 3369.00 "
      ]
     },
     "metadata": {},
     "output_type": "display_data"
    },
    {
     "data": {
      "text/html": [
       "385.75"
      ],
      "text/latex": [
       "385.75"
      ],
      "text/markdown": [
       "385.75"
      ],
      "text/plain": [
       "[1] 385.75"
      ]
     },
     "metadata": {},
     "output_type": "display_data"
    },
    {
     "data": {
      "text/plain": [
       "Time differences in days\n",
       "[1]   18 3369"
      ]
     },
     "metadata": {},
     "output_type": "display_data"
    },
    {
     "data": {
      "text/html": [
       "<table>\n",
       "<thead><tr><th scope=col>CirculationYear</th><th scope=col>mean.duration</th><th scope=col>median.duration</th><th scope=col>IQR.duration</th></tr></thead>\n",
       "<tbody>\n",
       "\t<tr><td>2009         </td><td>1276.963 days</td><td>1152.0 days  </td><td>636.50 days  </td></tr>\n",
       "\t<tr><td>2010         </td><td>1297.779 days</td><td>1150.0 days  </td><td>620.50 days  </td></tr>\n",
       "\t<tr><td>2011         </td><td>1188.139 days</td><td>1115.0 days  </td><td>652.00 days  </td></tr>\n",
       "\t<tr><td>2012         </td><td>1089.484 days</td><td>1049.0 days  </td><td>537.00 days  </td></tr>\n",
       "\t<tr><td>2013         </td><td>1147.821 days</td><td>1099.0 days  </td><td>687.50 days  </td></tr>\n",
       "\t<tr><td>2014         </td><td>1167.700 days</td><td>1136.5 days  </td><td>586.25 days  </td></tr>\n",
       "\t<tr><td>2015         </td><td>1249.220 days</td><td>1153.0 days  </td><td>763.25 days  </td></tr>\n",
       "\t<tr><td>2016         </td><td>1227.009 days</td><td>1122.0 days  </td><td>644.00 days  </td></tr>\n",
       "\t<tr><td>2017         </td><td>1261.437 days</td><td>1146.0 days  </td><td>654.25 days  </td></tr>\n",
       "\t<tr><td>2018         </td><td>1319.476 days</td><td>1123.5 days  </td><td>639.00 days  </td></tr>\n",
       "</tbody>\n",
       "</table>\n"
      ],
      "text/latex": [
       "\\begin{tabular}{r|llll}\n",
       " CirculationYear & mean.duration & median.duration & IQR.duration\\\\\n",
       "\\hline\n",
       "\t 2009          & 1276.963 days & 1152.0 days   & 636.50 days  \\\\\n",
       "\t 2010          & 1297.779 days & 1150.0 days   & 620.50 days  \\\\\n",
       "\t 2011          & 1188.139 days & 1115.0 days   & 652.00 days  \\\\\n",
       "\t 2012          & 1089.484 days & 1049.0 days   & 537.00 days  \\\\\n",
       "\t 2013          & 1147.821 days & 1099.0 days   & 687.50 days  \\\\\n",
       "\t 2014          & 1167.700 days & 1136.5 days   & 586.25 days  \\\\\n",
       "\t 2015          & 1249.220 days & 1153.0 days   & 763.25 days  \\\\\n",
       "\t 2016          & 1227.009 days & 1122.0 days   & 644.00 days  \\\\\n",
       "\t 2017          & 1261.437 days & 1146.0 days   & 654.25 days  \\\\\n",
       "\t 2018          & 1319.476 days & 1123.5 days   & 639.00 days  \\\\\n",
       "\\end{tabular}\n"
      ],
      "text/markdown": [
       "\n",
       "| CirculationYear | mean.duration | median.duration | IQR.duration |\n",
       "|---|---|---|---|\n",
       "| 2009          | 1276.963 days | 1152.0 days   | 636.50 days   |\n",
       "| 2010          | 1297.779 days | 1150.0 days   | 620.50 days   |\n",
       "| 2011          | 1188.139 days | 1115.0 days   | 652.00 days   |\n",
       "| 2012          | 1089.484 days | 1049.0 days   | 537.00 days   |\n",
       "| 2013          | 1147.821 days | 1099.0 days   | 687.50 days   |\n",
       "| 2014          | 1167.700 days | 1136.5 days   | 586.25 days   |\n",
       "| 2015          | 1249.220 days | 1153.0 days   | 763.25 days   |\n",
       "| 2016          | 1227.009 days | 1122.0 days   | 644.00 days   |\n",
       "| 2017          | 1261.437 days | 1146.0 days   | 654.25 days   |\n",
       "| 2018          | 1319.476 days | 1123.5 days   | 639.00 days   |\n",
       "\n"
      ],
      "text/plain": [
       "   CirculationYear mean.duration median.duration IQR.duration\n",
       "1  2009            1276.963 days 1152.0 days     636.50 days \n",
       "2  2010            1297.779 days 1150.0 days     620.50 days \n",
       "3  2011            1188.139 days 1115.0 days     652.00 days \n",
       "4  2012            1089.484 days 1049.0 days     537.00 days \n",
       "5  2013            1147.821 days 1099.0 days     687.50 days \n",
       "6  2014            1167.700 days 1136.5 days     586.25 days \n",
       "7  2015            1249.220 days 1153.0 days     763.25 days \n",
       "8  2016            1227.009 days 1122.0 days     644.00 days \n",
       "9  2017            1261.437 days 1146.0 days     654.25 days \n",
       "10 2018            1319.476 days 1123.5 days     639.00 days "
      ]
     },
     "metadata": {},
     "output_type": "display_data"
    },
    {
     "data": {
      "image/png": "[encoded data removed]",
      "text/plain": [
       "Plot with title \"Actual Project Duration\""
      ]
     },
     "metadata": {},
     "output_type": "display_data"
    }
   ],
   "source": [
    "# Creating an actual duration column\n",
    "df_withDates$ActualDuration <- df_withDates$RevisedCompletionDate - df_withDates$ApprovalDate\n",
    "\n",
    "# Actual duration statistics\n",
    "mean(df_withDates$ActualDuration) \n",
    "median(df_withDates$ActualDuration)\n",
    "quantile(df_withDates$ActualDuration)\n",
    "IQR(df_withDates$ActualDuration) \n",
    "\n",
    "df_withDates$ExpectedDuration <- df_withDates$OriginalCompletionDate - df_withDates$ApprovalDate\n",
    "\n",
    "mean(df_withDates$ExpectedDuration)\n",
    "median(df_withDates$ExpectedDuration) \n",
    "quantile(df_withDates$ExpectedDuration) \n",
    "IQR(df_withDates$ExpectedDuration)\n",
    "range(df_withDates$ExpectedDuration)\n",
    "\n",
    "ActualDurationByYear <- df_withDates %>%  \n",
    "  group_by(CirculationYear) %>%    \n",
    "  summarise(mean.duration = mean(ActualDuration), \n",
    "            median.duration = median(ActualDuration),\n",
    "            IQR.duration = quantile(ActualDuration, 0.75) - quantile(ActualDuration, 0.25))\n",
    "ActualDurationByYear\n",
    "\n",
    "plot(ActualDurationByYear$CirculationYear, \n",
    "     ActualDurationByYear$mean.duration, pch=15, col=\"red\", ylim=c(300, 1300),\n",
    "     xlab=\"Circulation Year\", ylab=\"Duration (days)\", main=\"Actual Project Duration\")\n",
    "points(ActualDurationByYear$CirculationYear, \n",
    "       ActualDurationByYear$median.duration, pch=16, col=\"blue\")\n",
    "points(ActualDurationByYear$CirculationYear, \n",
    "       ActualDurationByYear$IQR.duration, pch=17, col=\"green\")\n",
    "legend(\"bottomleft\", pch=c(15,16,17), \n",
    "       col=c(\"red\",\"blue\",\"green\"), \n",
    "       legend=c(\"Mean\", \"Median\", \"IQR\"))\n",
    "grid(nx=NA, ny=NULL)"
   ]
  },
  {
   "cell_type": "markdown",
   "metadata": {},
   "source": [
    "### Task 2\n",
    "#### What % of projects completed between 2010 and now were rated 0? What % over the same time period were rated 1? What % were rated 2? What % were rated 3? Answer these questions using a table or a figure. Provide a title and an explanatory sentence or two that provides the numerical % results rounded to the nearest percentage point."
   ]
  },
  {
   "cell_type": "code",
   "execution_count": 28,
   "metadata": {},
   "outputs": [
    {
     "data": {
      "text/plain": [
       "\n",
       "  0   1   2   3 \n",
       " 10  72 425  88 "
      ]
     },
     "metadata": {},
     "output_type": "display_data"
    },
    {
     "data": {
      "text/plain": [
       "\n",
       "    0     1     2     3 \n",
       " 2.27 13.48 69.55 14.70 "
      ]
     },
     "metadata": {},
     "output_type": "display_data"
    },
    {
     "data": {
      "image/png": "[encoded data removed]",
      "text/plain": [
       "Plot with title \"Rating of projects after 2010 (%)\""
      ]
     },
     "metadata": {},
     "output_type": "display_data"
    }
   ],
   "source": [
    "# Making sure my data is after 2010\n",
    "which.after_2010 <- which(data$RevisedCompletionDate <= as.Date(\"2010-01-01\"))\n",
    "after_2010 <- data[-which.after_2010, ]\n",
    "\n",
    "# Table containing frequency of rating\n",
    "table(after_2010$Rating)\n",
    "\n",
    "# Converting table above to percentage\n",
    "pr_rating <- prop.table(table((data$Rating)))\n",
    "\n",
    "# Rounding percentages\n",
    "pc <- round(pr_rating*100, 2)\n",
    "pc\n",
    "# Barplot representing the data above\n",
    "barplot(pc, \n",
    "        border = 0, \n",
    "        main=\"Rating of projects after 2010 (%)\",\n",
    "        ylim=c(0, 80),\n",
    "        xlab = 'Rating', \n",
    "        ylab = 'Percentage', )"
   ]
  },
  {
   "cell_type": "markdown",
   "metadata": {},
   "source": [
    "### Task 3\n",
    "#### Repeat problem 2, but this time limit your analysis purely to policy and advisory technical assistance (”PATA”) projects."
   ]
  },
  {
   "cell_type": "code",
   "execution_count": 26,
   "metadata": {},
   "outputs": [
    {
     "data": {
      "text/plain": [
       "\n",
       "  0   1   2   3 \n",
       "  1  14 105  29 "
      ]
     },
     "metadata": {},
     "output_type": "display_data"
    },
    {
     "data": {
      "text/plain": [
       "\n",
       "    0     1     2     3 \n",
       " 0.67  9.40 70.47 19.46 "
      ]
     },
     "metadata": {},
     "output_type": "display_data"
    },
    {
     "data": {
      "image/png": "[encoded data removed]",
      "text/plain": [
       "Plot with title \"Rating of projects after 2010 (%)\""
      ]
     },
     "metadata": {},
     "output_type": "display_data"
    }
   ],
   "source": [
    "# Creating ppta dataset\n",
    "ex_pata <- after_2010[which(as.character(after_2010$Type) == \"PATA\"), ]\n",
    "\n",
    "# Table with frequency of ratings in ppta dataset\n",
    "table(ex_pata$Rating)\n",
    "\n",
    "# Converting table to percentages\n",
    "percent_pata <- prop.table(table((ex_pata$Rating)))\n",
    "\n",
    "# Rounding percentages\n",
    "pata <- round(percent_pata*100, 2)\n",
    "\n",
    "# Showing percentages\n",
    "pata\n",
    "\n",
    "# Barplot representing the data above\n",
    "barplot(pata, \n",
    "        border = 0, \n",
    "        ylim=c(0, 80),\n",
    "        main=\"Rating of projects after 2010 (%)\",\n",
    "        xlab = 'Rating', \n",
    "        ylab = 'Frequency', )"
   ]
  },
  {
   "cell_type": "markdown",
   "metadata": {},
   "source": [
    "### Task 4\n",
    "#### Identify the top 10% of projects by “Revised.Amount” and the bottom 10% of projects by “RevisedAmount” (“RevisedAmount” shows the final project budget). Compare the ratings of these projects. Can you draw a causal conclusion about the effect of budget size on ratings? Why or why not? Hint: Compare the characteristics of the two project groupings, e.g., “Dept,” “Division,” “Cluster,” “Country.” Approximate suggested length: 3-5 sentences."
   ]
  },
  {
   "cell_type": "code",
   "execution_count": 15,
   "metadata": {},
   "outputs": [
    {
     "data": {
      "text/plain": [
       "\n",
       " 1  2  3 \n",
       " 3 33  5 "
      ]
     },
     "metadata": {},
     "output_type": "display_data"
    },
    {
     "data": {
      "text/plain": [
       "\n",
       "         1          2          3 \n",
       "0.07317073 0.80487805 0.12195122 "
      ]
     },
     "metadata": {},
     "output_type": "display_data"
    },
    {
     "data": {
      "text/plain": [
       "\n",
       " 1  2  3 \n",
       " 8 47 11 "
      ]
     },
     "metadata": {},
     "output_type": "display_data"
    },
    {
     "data": {
      "text/plain": [
       "\n",
       "        1         2         3 \n",
       "0.1212121 0.7121212 0.1666667 "
      ]
     },
     "metadata": {},
     "output_type": "display_data"
    },
    {
     "data": {
      "image/png": "[encoded data removed]",
      "text/plain": [
       "Plot with title \"Rating of projects after 2010 for bottom and top 10 percent (%)\""
      ]
     },
     "metadata": {},
     "output_type": "display_data"
    }
   ],
   "source": [
    "# Creating bottom 10% of projects by revised amount\n",
    "rs_low <- data[which(data$RevisedAmount < quantile(data$RevisedAmount, 0.10, na.rm = TRUE)),]\n",
    "\n",
    "# Creating top 10% of projects by revised amount\n",
    "rs_high <- data[which(data$RevisedAmount > quantile(data$RevisedAmount, 0.90, na.rm = TRUE)),]\n",
    "\n",
    "# Table of ratings for bottom 10%\n",
    "table(rs_low$Rating)\n",
    "\n",
    "# Bottom 10 % table as a fraction of total entries for bottom 10 %\n",
    "rs_low_tab <- prop.table(table((rs_low$Rating)))\n",
    "rs_low_tab\n",
    "\n",
    "# Table for top 10 %\n",
    "table(rs_high$Rating)\n",
    "\n",
    "# Top 10 % table as a fraction of total entries for top 10 %\n",
    "rs_high_tab <- prop.table(table((rs_high$Rating)))\n",
    "rs_high_tab\n",
    "\n",
    "# Barplot representing rating of projects dependent on the revised amount\n",
    "test <- rbind(rs_low_tab,rs_high_tab)\n",
    "barplot(test,\n",
    "        beside=T, \n",
    "        main=\"Rating of projects after 2010 for bottom and top 10 percent (%)\",\n",
    "        legend = c('Bottom 10%', \"Top 10%\"),\n",
    "        xlab = 'Rating',\n",
    "        ylab = 'Percentage of projects after 2010',)"
   ]
  },
  {
   "cell_type": "code",
   "execution_count": 16,
   "metadata": {},
   "outputs": [
    {
     "data": {
      "text/plain": [
       "     Number                       Status      Cluster       Prefix  \n",
       " Min.   :4886   Active               : 0          :39   RS     :20  \n",
       " 1st Qu.:7235   Cancelled            : 0   C003   : 1   S      :16  \n",
       " Median :7530   Financially Completed:41   C006   : 1          : 3  \n",
       " Mean   :7439                              14     : 0   Cs     : 1  \n",
       " 3rd Qu.:8120                              15     : 0   RCsS   : 1  \n",
       " Max.   :9063                              16     : 0   CsS    : 0  \n",
       "                                           (Other): 0   (Other): 0  \n",
       "      Type       Country        Dept       Division \n",
       " CDTA   :14   REG    :21   SARD   :9   PATE    : 4  \n",
       " PATA   :10   NEP    : 3   ERCD   :5   ERDI    : 3  \n",
       " RDTA   : 6   INO    : 2   PARD   :5   CWOD    : 2  \n",
       " RETA   : 5   MON    : 2   SDCC   :5   SAEN    : 2  \n",
       " ADTA   : 4   SRI    : 2   SERD   :5   SAPF    : 2  \n",
       " PPTA   : 2   BAN    : 1   CWRD   :3   SDSC-TRA: 2  \n",
       " (Other): 0   (Other):10   (Other):9   (Other) :26  \n",
       "                                                LTAA         Loan  \n",
       " Public sector management                         :15   Min.   :0  \n",
       " Energy                                           : 6   1st Qu.:0  \n",
       " Multisector                                      : 6   Median :0  \n",
       " Health                                           : 4   Mean   :0  \n",
       " Transport                                        : 4   3rd Qu.:0  \n",
       " Water and other urban infrastructure and services: 3   Max.   :0  \n",
       " (Other)                                          : 3              \n",
       "  ApprovalDate        AgreementDate        Agreement EffectivityDate     \n",
       " Min.   :2006-11-29   Min.   :2007-01-22    : 0      Min.   :2006-11-29  \n",
       " 1st Qu.:2009-02-09   1st Qu.:2007-05-18   N:37      1st Qu.:2009-02-09  \n",
       " Median :2010-05-12   Median :2007-11-02   Y: 4      Median :2010-05-12  \n",
       " Mean   :2010-08-19   Mean   :2008-08-10             Mean   :2010-09-06  \n",
       " 3rd Qu.:2012-07-12   3rd Qu.:2009-01-25             3rd Qu.:2012-07-12  \n",
       " Max.   :2015-12-21   Max.   :2011-09-13             Max.   :2015-12-21  \n",
       "                      NA's   :37                                         \n",
       " CancellationDate FinancialCompletionDate OriginalCompletionDate\n",
       " Min.   :NA       Min.   :2009-06-18      Min.   :2007-08-31    \n",
       " 1st Qu.:NA       1st Qu.:2011-02-14      1st Qu.:2010-03-31    \n",
       " Median :NA       Median :2012-11-08      Median :2011-11-30    \n",
       " Mean   :NA       Mean   :2013-01-31      Mean   :2011-11-08    \n",
       " 3rd Qu.:NA       3rd Qu.:2014-06-30      3rd Qu.:2013-04-30    \n",
       " Max.   :NA       Max.   :2018-03-15      Max.   :2016-12-31    \n",
       " NA's   :41                                                     \n",
       " RevisedCompletionDate      JSF          Fund    RevisedAmount  \n",
       " Min.   :2008-12-31    Min.   :1    2      :31   Min.   :0.066  \n",
       " 1st Qu.:2010-12-31    1st Qu.:1    5G     : 2   1st Qu.:0.150  \n",
       " Median :2012-03-31    Median :1    30     : 1   Median :0.170  \n",
       " Mean   :2012-09-07    Mean   :1    34     : 1   Mean   :0.167  \n",
       " 3rd Qu.:2013-12-31    3rd Qu.:1    4      : 1   3rd Qu.:0.200  \n",
       " Max.   :2017-06-30    Max.   :1    47     : 1   Max.   :0.220  \n",
       "                       NA's   :40   (Other): 4                  \n",
       "     Rating            No          PCR     CirculationDate     \n",
       " Min.   :1.000          : 1          :40   Min.   :2010-03-02  \n",
       " 1st Qu.:2.000   115-15 : 1   53-11  : 1   1st Qu.:2012-06-29  \n",
       " Median :2.000   116-15 : 1   110-15 : 0   Median :2013-04-17  \n",
       " Mean   :2.049   122-14 : 1   112-81 : 0   Mean   :2013-11-10  \n",
       " 3rd Qu.:2.000   131-12 : 1   122-07 : 0   3rd Qu.:2015-05-13  \n",
       " Max.   :3.000   139-14 : 1   122-17 : 0   Max.   :2018-04-10  \n",
       "                 (Other):35   (Other): 0                       "
      ]
     },
     "metadata": {},
     "output_type": "display_data"
    }
   ],
   "source": [
    "# Summary to look at other charachteristics of bottom 10%\n",
    "summary(rs_low)\n",
    "#rs_low"
   ]
  },
  {
   "cell_type": "code",
   "execution_count": 17,
   "metadata": {},
   "outputs": [
    {
     "data": {
      "text/plain": [
       "     Number                       Status      Cluster       Prefix  \n",
       " Min.   :4573   Active               : 0          :65   R      :37  \n",
       " 1st Qu.:6431   Cancelled            : 0   C003   : 1          :28  \n",
       " Median :7230   Financially Completed:66   14     : 0   Cs     : 1  \n",
       " Mean   :6979                              15     : 0   CsS    : 0  \n",
       " 3rd Qu.:7875                              16     : 0   RCs    : 0  \n",
       " Max.   :8657                              17     : 0   RCsS   : 0  \n",
       "                                           (Other): 0   (Other): 0  \n",
       "      Type       Country        Dept       Division \n",
       " CDTA   :24   REG    :37   SDCC   :18   SDSC   : 8  \n",
       " RETA   :20   IND    : 7   PARD   :11   PATE   : 6  \n",
       " ADTA   :12   AFG    : 3   SERD   :11   SAUW   : 3  \n",
       " PATA   : 6   MYA    : 3   CWRD   : 9   SDES   : 3  \n",
       " PPTA   : 2   CAM    : 2   SARD   : 9   AFRM   : 2  \n",
       " RDTA   : 2   MON    : 2   EARD   : 6   CWEN   : 2  \n",
       " (Other): 0   (Other):12   (Other): 2   (Other):42  \n",
       "                                                   LTAA         Loan       \n",
       " Energy                                              :14   Min.   :   0.0  \n",
       " Public sector management                            :14   1st Qu.:   0.0  \n",
       " Agriculture, natural resources and rural development:10   Median :   0.0  \n",
       " Multisector                                         : 8   Mean   : 146.6  \n",
       " Water and other urban infrastructure and services   : 6   3rd Qu.:   0.0  \n",
       " Transport                                           : 4   Max.   :2815.0  \n",
       " (Other)                                             :10                   \n",
       "  ApprovalDate        AgreementDate        Agreement EffectivityDate     \n",
       " Min.   :2003-12-16   Min.   :2005-11-09    : 0      Min.   :2003-12-16  \n",
       " 1st Qu.:2007-12-09   1st Qu.:2007-11-08   N:36      1st Qu.:2007-12-09  \n",
       " Median :2009-02-03   Median :2009-05-29   Y:30      Median :2009-03-11  \n",
       " Mean   :2009-08-15   Mean   :2009-11-12             Mean   :2009-09-13  \n",
       " 3rd Qu.:2011-09-26   3rd Qu.:2012-01-07             3rd Qu.:2011-11-03  \n",
       " Max.   :2014-05-23   Max.   :2014-07-23             Max.   :2014-07-23  \n",
       "                      NA's   :36                                         \n",
       " CancellationDate FinancialCompletionDate OriginalCompletionDate\n",
       " Min.   :NA       Min.   :2009-03-31      Min.   :2007-12-31    \n",
       " 1st Qu.:NA       1st Qu.:2013-11-06      1st Qu.:2010-08-07    \n",
       " Median :NA       Median :2015-05-31      Median :2012-03-31    \n",
       " Mean   :NA       Mean   :2015-02-14      Mean   :2012-04-24    \n",
       " 3rd Qu.:NA       3rd Qu.:2016-09-12      3rd Qu.:2013-11-14    \n",
       " Max.   :NA       Max.   :2018-03-20      Max.   :2017-06-30    \n",
       " NA's   :66                                                     \n",
       " RevisedCompletionDate      JSF           Fund    RevisedAmount   \n",
       " Min.   :2008-11-30    Min.   :1    2       :14   Min.   : 1.850  \n",
       " 1st Qu.:2013-01-22    1st Qu.:1    46      : 7   1st Qu.: 2.000  \n",
       " Median :2014-12-31    Median :1    02,35   : 4   Median : 2.450  \n",
       " Mean   :2014-07-13    Mean   :1    4       : 3   Mean   : 3.467  \n",
       " 3rd Qu.:2016-05-15    3rd Qu.:1    02,04   : 2   3rd Qu.: 3.263  \n",
       " Max.   :2017-12-31    Max.   :1    02,07,55: 2   Max.   :17.222  \n",
       "                       NA's   :55   (Other) :34                   \n",
       "     Rating            No          PCR     CirculationDate     \n",
       " Min.   :1.000          : 3          :63   Min.   :2010-05-20  \n",
       " 1st Qu.:2.000   376-16 : 2   191-16 : 1   1st Qu.:2014-06-24  \n",
       " Median :2.000   104-12 : 1   35-18  : 1   Median :2016-06-06  \n",
       " Mean   :2.045   11-18  : 1   87-14  : 1   Mean   :2015-08-28  \n",
       " 3rd Qu.:2.000   116-10 : 1   110-15 : 0   3rd Qu.:2017-05-18  \n",
       " Max.   :3.000   117-16 : 1   112-81 : 0   Max.   :2018-06-26  \n",
       "                 (Other):57   (Other): 0                       "
      ]
     },
     "metadata": {},
     "output_type": "display_data"
    }
   ],
   "source": [
    "# Summary to look at other charachteristics of top 10%\n",
    "summary(rs_high)"
   ]
  }
 ],
 "metadata": {
  "kernelspec": {
   "display_name": "R",
   "language": "R",
   "name": "ir"
  },
  "language_info": {
   "codemirror_mode": "r",
   "file_extension": ".r",
   "mimetype": "text/x-r-source",
   "name": "R",
   "pygments_lexer": "r",
   "version": "3.6.1"
  }
 },
 "nbformat": 4,
 "nbformat_minor": 2
}
